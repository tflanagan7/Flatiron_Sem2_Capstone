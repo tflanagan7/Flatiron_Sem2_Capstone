{
 "cells": [
  {
   "cell_type": "markdown",
   "id": "efd71569",
   "metadata": {},
   "source": [
    "# Predicting MLB Player Performance. A Product of the Statcast Era.\n",
    "\n",
    "### Trevor Flanagan\n",
    "\n",
    "This Notebook contains the code used to explore MLB hitter data and see how accurately an ML model can predict next season WAR based off season stats."
   ]
  },
  {
   "cell_type": "markdown",
   "id": "192241ee",
   "metadata": {},
   "source": [
    "## Background\n",
    "\n",
    "The Statcast Era sparked in 2015 with all 30 major league ballparks adopting Statcast - a new tracking technology. The technology allowed for some advanced statistics to be recorded from games.Since it's existence it's presence has been feltm really breathing life into a competitive marketplace with baseball statisticians **influencing front office decisions, training & conditioning, in-game managerial decisions**.\n",
    "\n",
    "With the more stat-focused age of MLB the game has been changing rapidly from what I knew growing up watching it:\n",
    "\n",
    "* Teams are shifting their entire infields to cover one side of the field that the batter is likely to hit to\n",
    "* It's no longer universally excepted that your best batter hit's 3rd\n",
    "* Seemingly every team has one or more guy that can throw over 100mph\n",
    "\n",
    "I will be looking to **predict MLB hitters WAR based off their previous season statsitics**.\n",
    "\n",
    "Data for this project is sourced from a combination of FanGraphs, Baseball Reference, and Baseball Savant. This data is extracted with the help of the **pybaseball** package in python"
   ]
  },
  {
   "cell_type": "code",
   "execution_count": 1,
   "id": "b55d92cb",
   "metadata": {},
   "outputs": [],
   "source": [
    "#ignore Future Warnings\n",
    "import warnings\n",
    "warnings.simplefilter(action='ignore', category=FutureWarning)\n",
    "\n",
    "install pybaseball\n",
    "#%pip install pybaseball"
   ]
  },
  {
   "cell_type": "code",
   "execution_count": 2,
   "id": "3645ecab",
   "metadata": {},
   "outputs": [],
   "source": [
    "#import libraries\n",
    "\n",
    "#Libraries to help reading in data\n",
    "import os\n",
    "import pandas as pd\n",
    "import numpy as np\n",
    "from pybaseball import batting_stats\n",
    "\n",
    "#Libraries to help with model building and assessment\n",
    "from sklearn.preprocessing import StandardScaler\n",
    "from sklearn.linear_model import LinearRegression\n",
    "from sklearn.preprocessing import PolynomialFeatures\n",
    "from sklearn.linear_model import Ridge\n",
    "from sklearn.feature_selection import SequentialFeatureSelector\n",
    "from sklearn.model_selection import TimeSeriesSplit\n",
    "from sklearn.model_selection import train_test_split\n",
    "from sklearn.metrics import mean_squared_error\n",
    "from sklearn.model_selection import cross_val_score\n",
    "from statistics import stdev\n",
    "import seaborn as sns\n",
    "import matplotlib.pyplot as plt"
   ]
  },
  {
   "cell_type": "markdown",
   "id": "5f0a8635",
   "metadata": {},
   "source": [
    "## Data Preparation\n",
    "\n",
    "Data is extracted from pybaseball\n",
    "\n",
    "The variables we will have to filter out are:\n",
    "* Data pulled within the **last 20 seasons**\n",
    "* Players need to have at least **200 plate appearances** for their season to count\n",
    "* We're **excluding players with only 1 season** of data since they won't have a next season WAR to predict\n",
    "\n",
    "Other cleaning steps:\n",
    "* Team is coded as a string, in order to fit into a model it needs to be coded as a numeric variable \"Team Code\"\n",
    "* The string variables \"Dol\" and \"Age Rng\" won't be useful for model building or analysis so they will both be dropped from the dataframe"
   ]
  },
  {
   "cell_type": "code",
   "execution_count": 3,
   "id": "054f0c6a",
   "metadata": {},
   "outputs": [
    {
     "data": {
      "text/html": [
       "<div>\n",
       "<style scoped>\n",
       "    .dataframe tbody tr th:only-of-type {\n",
       "        vertical-align: middle;\n",
       "    }\n",
       "\n",
       "    .dataframe tbody tr th {\n",
       "        vertical-align: top;\n",
       "    }\n",
       "\n",
       "    .dataframe thead th {\n",
       "        text-align: right;\n",
       "    }\n",
       "</style>\n",
       "<table border=\"1\" class=\"dataframe\">\n",
       "  <thead>\n",
       "    <tr style=\"text-align: right;\">\n",
       "      <th></th>\n",
       "      <th>IDfg</th>\n",
       "      <th>Season</th>\n",
       "      <th>Name</th>\n",
       "      <th>Team</th>\n",
       "      <th>Age</th>\n",
       "      <th>G</th>\n",
       "      <th>AB</th>\n",
       "      <th>PA</th>\n",
       "      <th>H</th>\n",
       "      <th>1B</th>\n",
       "      <th>...</th>\n",
       "      <th>Cent%+</th>\n",
       "      <th>Oppo%+</th>\n",
       "      <th>Soft%+</th>\n",
       "      <th>Med%+</th>\n",
       "      <th>Hard%+</th>\n",
       "      <th>Events</th>\n",
       "      <th>CStr%</th>\n",
       "      <th>CSW%</th>\n",
       "      <th>L-WAR</th>\n",
       "      <th>Team Code</th>\n",
       "    </tr>\n",
       "  </thead>\n",
       "  <tbody>\n",
       "    <tr>\n",
       "      <th>0</th>\n",
       "      <td>1109</td>\n",
       "      <td>2002</td>\n",
       "      <td>Barry Bonds</td>\n",
       "      <td>SFG</td>\n",
       "      <td>37</td>\n",
       "      <td>143</td>\n",
       "      <td>403</td>\n",
       "      <td>612</td>\n",
       "      <td>149</td>\n",
       "      <td>70</td>\n",
       "      <td>...</td>\n",
       "      <td>106</td>\n",
       "      <td>87</td>\n",
       "      <td>64</td>\n",
       "      <td>83</td>\n",
       "      <td>171</td>\n",
       "      <td>0</td>\n",
       "      <td>0.127</td>\n",
       "      <td>0.191</td>\n",
       "      <td>12.7</td>\n",
       "      <td>28</td>\n",
       "    </tr>\n",
       "    <tr>\n",
       "      <th>1</th>\n",
       "      <td>1109</td>\n",
       "      <td>2004</td>\n",
       "      <td>Barry Bonds</td>\n",
       "      <td>SFG</td>\n",
       "      <td>39</td>\n",
       "      <td>147</td>\n",
       "      <td>373</td>\n",
       "      <td>617</td>\n",
       "      <td>135</td>\n",
       "      <td>60</td>\n",
       "      <td>...</td>\n",
       "      <td>96</td>\n",
       "      <td>86</td>\n",
       "      <td>65</td>\n",
       "      <td>76</td>\n",
       "      <td>171</td>\n",
       "      <td>0</td>\n",
       "      <td>0.124</td>\n",
       "      <td>0.164</td>\n",
       "      <td>11.9</td>\n",
       "      <td>28</td>\n",
       "    </tr>\n",
       "    <tr>\n",
       "      <th>8</th>\n",
       "      <td>15640</td>\n",
       "      <td>2022</td>\n",
       "      <td>Aaron Judge</td>\n",
       "      <td>NYY</td>\n",
       "      <td>30</td>\n",
       "      <td>157</td>\n",
       "      <td>570</td>\n",
       "      <td>696</td>\n",
       "      <td>177</td>\n",
       "      <td>87</td>\n",
       "      <td>...</td>\n",
       "      <td>91</td>\n",
       "      <td>84</td>\n",
       "      <td>46</td>\n",
       "      <td>83</td>\n",
       "      <td>159</td>\n",
       "      <td>404</td>\n",
       "      <td>0.169</td>\n",
       "      <td>0.287</td>\n",
       "      <td>11.2</td>\n",
       "      <td>22</td>\n",
       "    </tr>\n",
       "    <tr>\n",
       "      <th>15</th>\n",
       "      <td>13611</td>\n",
       "      <td>2018</td>\n",
       "      <td>Mookie Betts</td>\n",
       "      <td>BOS</td>\n",
       "      <td>25</td>\n",
       "      <td>136</td>\n",
       "      <td>520</td>\n",
       "      <td>614</td>\n",
       "      <td>180</td>\n",
       "      <td>96</td>\n",
       "      <td>...</td>\n",
       "      <td>102</td>\n",
       "      <td>73</td>\n",
       "      <td>69</td>\n",
       "      <td>92</td>\n",
       "      <td>125</td>\n",
       "      <td>434</td>\n",
       "      <td>0.220</td>\n",
       "      <td>0.270</td>\n",
       "      <td>10.4</td>\n",
       "      <td>5</td>\n",
       "    </tr>\n",
       "    <tr>\n",
       "      <th>2</th>\n",
       "      <td>1109</td>\n",
       "      <td>2003</td>\n",
       "      <td>Barry Bonds</td>\n",
       "      <td>SFG</td>\n",
       "      <td>38</td>\n",
       "      <td>130</td>\n",
       "      <td>390</td>\n",
       "      <td>550</td>\n",
       "      <td>133</td>\n",
       "      <td>65</td>\n",
       "      <td>...</td>\n",
       "      <td>116</td>\n",
       "      <td>71</td>\n",
       "      <td>93</td>\n",
       "      <td>78</td>\n",
       "      <td>161</td>\n",
       "      <td>0</td>\n",
       "      <td>0.135</td>\n",
       "      <td>0.223</td>\n",
       "      <td>10.2</td>\n",
       "      <td>28</td>\n",
       "    </tr>\n",
       "  </tbody>\n",
       "</table>\n",
       "<p>5 rows × 131 columns</p>\n",
       "</div>"
      ],
      "text/plain": [
       "     IDfg  Season          Name Team  Age    G   AB   PA    H  1B  ...  \\\n",
       "0    1109    2002   Barry Bonds  SFG   37  143  403  612  149  70  ...   \n",
       "1    1109    2004   Barry Bonds  SFG   39  147  373  617  135  60  ...   \n",
       "8   15640    2022   Aaron Judge  NYY   30  157  570  696  177  87  ...   \n",
       "15  13611    2018  Mookie Betts  BOS   25  136  520  614  180  96  ...   \n",
       "2    1109    2003   Barry Bonds  SFG   38  130  390  550  133  65  ...   \n",
       "\n",
       "    Cent%+  Oppo%+  Soft%+  Med%+  Hard%+  Events  CStr%   CSW%  L-WAR  \\\n",
       "0      106      87      64     83     171       0  0.127  0.191   12.7   \n",
       "1       96      86      65     76     171       0  0.124  0.164   11.9   \n",
       "8       91      84      46     83     159     404  0.169  0.287   11.2   \n",
       "15     102      73      69     92     125     434  0.220  0.270   10.4   \n",
       "2      116      71      93     78     161       0  0.135  0.223   10.2   \n",
       "\n",
       "    Team Code  \n",
       "0          28  \n",
       "1          28  \n",
       "8          22  \n",
       "15          5  \n",
       "2          28  \n",
       "\n",
       "[5 rows x 131 columns]"
      ]
     },
     "execution_count": 3,
     "metadata": {},
     "output_type": "execute_result"
    }
   ],
   "source": [
    "#Define start and end years for our sample of data\n",
    "START = 2002\n",
    "END = 2022\n",
    "\n",
    "#Pull data from pybaseall, with qual=200 to exclude seasons where the player had <200 plate appearences\n",
    "batstat = batting_stats(START, END, qual=200)\n",
    "\n",
    "#Exclude statistics with Null Values\n",
    "null_values = batstat.isnull().sum()\n",
    "batstat_nonnulls = batstat.columns[null_values == 0]\n",
    "batstat = batstat[batstat_nonnulls]\n",
    "\n",
    "#Code \"Team\" variable as numeric variable \"Team Code\"\n",
    "batstat[\"Team Code\"] = batstat['Team'].astype(\"category\").cat.codes\n",
    "\n",
    "#Drop Dol and Age Rng columns\n",
    "batstat.drop(columns = [\"Dol\", \"Age Rng\"], inplace = True)\n",
    "\n",
    "\n",
    "#Print table head\n",
    "batstat.head()"
   ]
  },
  {
   "cell_type": "markdown",
   "id": "662e7ef0",
   "metadata": {},
   "source": [
    "## Creating our predictor variable\n",
    ".\n",
    "WAR (Wins Above Replacement) is highly regarded as the best existing metric for player analysis.\n",
    "\n",
    "For hitters the equation to calculate WAR is:\n",
    "\n",
    "WAR = (Batting Runs(RBI) + Fielding Runs Above Average + Positional Adjustment + League Adjustment + Base Running Runs) + Runs Added or Lost Due to Grounding into Double Players/Runs Per Win\n",
    "\n",
    "Since the purpose of our project is to build a model that can predict future WAR we're going to be **creating a new variable in our dataset called Next_WAR** which is equal a players next season WAR. If it's the players last season, or the next season hasn't been played yet Next_WAR is NaN and will be dropped from the train/test data we'll use to build the model.\n",
    "\n",
    "First, it will be helpful to have a baseline for what WAR looks like and how it's distributed"
   ]
  },
  {
   "cell_type": "code",
   "execution_count": 4,
   "id": "35270338",
   "metadata": {},
   "outputs": [
    {
     "data": {
      "text/plain": [
       "1.9323831867747412"
      ]
     },
     "execution_count": 4,
     "metadata": {},
     "output_type": "execute_result"
    }
   ],
   "source": [
    "stdev(batstat[\"WAR\"])"
   ]
  },
  {
   "cell_type": "code",
   "execution_count": 5,
   "id": "47d32ad5",
   "metadata": {},
   "outputs": [
    {
     "data": {
      "text/plain": [
       "<AxesSubplot:xlabel='WAR', ylabel='Density'>"
      ]
     },
     "execution_count": 5,
     "metadata": {},
     "output_type": "execute_result"
    },
    {
     "data": {
      "image/png": "[encoded data removed]",
      "text/plain": [
       "<Figure size 432x288 with 1 Axes>"
      ]
     },
     "metadata": {
      "needs_background": "light"
     },
     "output_type": "display_data"
    }
   ],
   "source": [
    "sns.distplot(batstat[\"WAR\"])"
   ]
  },
  {
   "cell_type": "markdown",
   "id": "633081bb",
   "metadata": {},
   "source": [
    "Looking at this curve we can see it's slightly right tailed, but it's not far from normally distributed. This may come from the fact that players who excel remain in he league, while those who fall under the middle of the bell curve are being sent down to the minors. And remember, seasons where the player doesn't have 2 consecutive seasons with at last 200 plate appearances will not be recorded. so this gives us farily reasonable confidence that WAR it normally distributed wholistically.\n",
    "\n",
    "When we're looking to assess effectiveness of our model in terms of RMSE, it will be a helpful baseline to know what one standard deviation is.\n",
    "\n",
    "Now we can create the Next_WAR variable"
   ]
  },
  {
   "cell_type": "code",
   "execution_count": 6,
   "id": "d1e94565",
   "metadata": {},
   "outputs": [
    {
     "data": {
      "text/html": [
       "<div>\n",
       "<style scoped>\n",
       "    .dataframe tbody tr th:only-of-type {\n",
       "        vertical-align: middle;\n",
       "    }\n",
       "\n",
       "    .dataframe tbody tr th {\n",
       "        vertical-align: top;\n",
       "    }\n",
       "\n",
       "    .dataframe thead th {\n",
       "        text-align: right;\n",
       "    }\n",
       "</style>\n",
       "<table border=\"1\" class=\"dataframe\">\n",
       "  <thead>\n",
       "    <tr style=\"text-align: right;\">\n",
       "      <th></th>\n",
       "      <th>IDfg</th>\n",
       "      <th>Name</th>\n",
       "      <th>Season</th>\n",
       "      <th>WAR</th>\n",
       "      <th>Next_WAR</th>\n",
       "    </tr>\n",
       "  </thead>\n",
       "  <tbody>\n",
       "    <tr>\n",
       "      <th>5562</th>\n",
       "      <td>1</td>\n",
       "      <td>Alfredo Amezaga</td>\n",
       "      <td>2006</td>\n",
       "      <td>1.1</td>\n",
       "      <td>2.0</td>\n",
       "    </tr>\n",
       "    <tr>\n",
       "      <th>5006</th>\n",
       "      <td>1</td>\n",
       "      <td>Alfredo Amezaga</td>\n",
       "      <td>2007</td>\n",
       "      <td>2.0</td>\n",
       "      <td>1.2</td>\n",
       "    </tr>\n",
       "    <tr>\n",
       "      <th>5252</th>\n",
       "      <td>1</td>\n",
       "      <td>Alfredo Amezaga</td>\n",
       "      <td>2008</td>\n",
       "      <td>1.2</td>\n",
       "      <td>NaN</td>\n",
       "    </tr>\n",
       "    <tr>\n",
       "      <th>1169</th>\n",
       "      <td>2</td>\n",
       "      <td>Garret Anderson</td>\n",
       "      <td>2002</td>\n",
       "      <td>3.7</td>\n",
       "      <td>5.1</td>\n",
       "    </tr>\n",
       "    <tr>\n",
       "      <th>864</th>\n",
       "      <td>2</td>\n",
       "      <td>Garret Anderson</td>\n",
       "      <td>2003</td>\n",
       "      <td>5.1</td>\n",
       "      <td>0.8</td>\n",
       "    </tr>\n",
       "    <tr>\n",
       "      <th>2569</th>\n",
       "      <td>2</td>\n",
       "      <td>Garret Anderson</td>\n",
       "      <td>2004</td>\n",
       "      <td>0.8</td>\n",
       "      <td>-0.2</td>\n",
       "    </tr>\n",
       "    <tr>\n",
       "      <th>4187</th>\n",
       "      <td>2</td>\n",
       "      <td>Garret Anderson</td>\n",
       "      <td>2005</td>\n",
       "      <td>-0.2</td>\n",
       "      <td>0.1</td>\n",
       "    </tr>\n",
       "    <tr>\n",
       "      <th>3964</th>\n",
       "      <td>2</td>\n",
       "      <td>Garret Anderson</td>\n",
       "      <td>2006</td>\n",
       "      <td>0.1</td>\n",
       "      <td>1.4</td>\n",
       "    </tr>\n",
       "    <tr>\n",
       "      <th>1925</th>\n",
       "      <td>2</td>\n",
       "      <td>Garret Anderson</td>\n",
       "      <td>2007</td>\n",
       "      <td>1.4</td>\n",
       "      <td>1.4</td>\n",
       "    </tr>\n",
       "    <tr>\n",
       "      <th>3346</th>\n",
       "      <td>2</td>\n",
       "      <td>Garret Anderson</td>\n",
       "      <td>2008</td>\n",
       "      <td>1.4</td>\n",
       "      <td>-1.1</td>\n",
       "    </tr>\n",
       "    <tr>\n",
       "      <th>4937</th>\n",
       "      <td>2</td>\n",
       "      <td>Garret Anderson</td>\n",
       "      <td>2009</td>\n",
       "      <td>-1.1</td>\n",
       "      <td>NaN</td>\n",
       "    </tr>\n",
       "    <tr>\n",
       "      <th>2675</th>\n",
       "      <td>10</td>\n",
       "      <td>David Eckstein</td>\n",
       "      <td>2002</td>\n",
       "      <td>4.5</td>\n",
       "      <td>1.2</td>\n",
       "    </tr>\n",
       "  </tbody>\n",
       "</table>\n",
       "</div>"
      ],
      "text/plain": [
       "      IDfg             Name  Season  WAR  Next_WAR\n",
       "5562     1  Alfredo Amezaga    2006  1.1       2.0\n",
       "5006     1  Alfredo Amezaga    2007  2.0       1.2\n",
       "5252     1  Alfredo Amezaga    2008  1.2       NaN\n",
       "1169     2  Garret Anderson    2002  3.7       5.1\n",
       "864      2  Garret Anderson    2003  5.1       0.8\n",
       "2569     2  Garret Anderson    2004  0.8      -0.2\n",
       "4187     2  Garret Anderson    2005 -0.2       0.1\n",
       "3964     2  Garret Anderson    2006  0.1       1.4\n",
       "1925     2  Garret Anderson    2007  1.4       1.4\n",
       "3346     2  Garret Anderson    2008  1.4      -1.1\n",
       "4937     2  Garret Anderson    2009 -1.1       NaN\n",
       "2675    10   David Eckstein    2002  4.5       1.2"
      ]
     },
     "execution_count": 6,
     "metadata": {},
     "output_type": "execute_result"
    }
   ],
   "source": [
    "#Define a function that will create the prediction variable for our models: Next_WAR\n",
    "def next_season(player):\n",
    "    player.sort_values(\"Season\", inplace = True)\n",
    "    player[\"Next_WAR\"] = player[\"WAR\"].shift(-1)\n",
    "    player.sort_values(\"IDfg\", inplace = True)\n",
    "    return player\n",
    "\n",
    "#Apply our new function to the batstat dataset\n",
    "batstat = batstat.groupby(\"IDfg\", group_keys=False).apply(next_season)\n",
    "\n",
    "#Print out a table that shows we suceeded in accurately creating our Next_WAR variable\n",
    "batstat[[\"IDfg\", \"Name\", \"Season\", \"WAR\", \"Next_WAR\"]].head(12)"
   ]
  },
  {
   "cell_type": "markdown",
   "id": "1de29766",
   "metadata": {},
   "source": [
    "## Identify Predictors\n",
    "\n",
    "We don't want our model to have 130 predictor variables for two main reasons\n",
    "* That would cause some pretty long computing times\n",
    "* The **Curse of Dimensionality** - as the number of dimensions increase the accompanying volume of the hyperspace explodes\n",
    "\n",
    "So instead, we're going to fit our data to a Simple Linear model and use a **Sequential Feature Selector** from sklearn to perform forward selection of the **best 15 variables** for determining WAR"
   ]
  },
  {
   "cell_type": "code",
   "execution_count": 7,
   "id": "ba35b8c0",
   "metadata": {},
   "outputs": [],
   "source": [
    "#The following code was run in Google Colab since my version of python \n",
    "#doesn't have the SequentialFeatureSelector from sklearn\n",
    "\n",
    "#Identify numeric variables compatible with a linear model\n",
    "#removed_columns = [\"Next_WAR\", \"Name\", \"Team\", \"IDgf\", \"Season\"]\n",
    "#selected_columns = batstat.columns[~batstat.columns.isin(removed_columns)]\n",
    "\n",
    "\n",
    "#Establish Simple Linear Regression as the baseline for our Sequential Feature Selection\n",
    "#lr = LinearRegression()\n",
    "\n",
    "#Time series split gaurentees new season data won't influence calculations for older predictions\n",
    "#split = TimeSeriesSplit(n_splits=3) \n",
    "\n",
    "#Perform forward selection for top 15 features\n",
    "#sfs = SequentialFeatureSelector(lr, n_features_to_select= 15, direction=\"forward\", cv=split)\n",
    "#sfs.fit(batstat[selected_columns], batstat[\"Next_WAR\"])\n",
    "\n",
    "#Pull list of predictors from sfs\n",
    "#predictors = list(selected_columns[sfs.get_support()])\n",
    "#predictors"
   ]
  },
  {
   "cell_type": "code",
   "execution_count": 8,
   "id": "c4e27596",
   "metadata": {},
   "outputs": [],
   "source": [
    "#Predictor values are hard coded using the product of Google Colab\n",
    "predictors = ['Age',\n",
    " 'IBB',\n",
    " 'SO',\n",
    " 'SB',\n",
    " 'BU',\n",
    " 'BB%',\n",
    " 'ISO',\n",
    " 'BABIP',\n",
    " 'WAR',\n",
    " 'Spd',\n",
    " 'PH',\n",
    " 'CB%',\n",
    " 'Pull%',\n",
    " 'Soft%+',\n",
    " 'Hard%+']"
   ]
  },
  {
   "cell_type": "markdown",
   "id": "460349cb",
   "metadata": {},
   "source": [
    "## Train Test Split\n",
    "Preparing to build our model we'll have to:\n",
    "1. first remove seasons where Next_WAR is NaN\n",
    "2. Separate the data into training(75%) and test(25%) data"
   ]
  },
  {
   "cell_type": "code",
   "execution_count": 9,
   "id": "74005856",
   "metadata": {},
   "outputs": [],
   "source": [
    "#Remove seasons where Next_WAR == NaN\n",
    "batstat = batstat.dropna().copy()\n",
    "\n",
    "# Define X and y variables\n",
    "X = batstat[predictors]\n",
    "y = batstat[\"Next_WAR\"]\n",
    "\n",
    "#Perform Train-Test-Split function\n",
    "X_train, X_test, y_train, y_test = train_test_split(X, y, test_size = 0.25, random_state = 100)"
   ]
  },
  {
   "cell_type": "markdown",
   "id": "d70e57a7",
   "metadata": {},
   "source": [
    "## Build and Evaluate a First Simple Model\n",
    "\n",
    "For our baseline model we'll use sklearn's LinearRegression\n"
   ]
  },
  {
   "cell_type": "code",
   "execution_count": 10,
   "id": "fc9faad0",
   "metadata": {},
   "outputs": [
    {
     "data": {
      "text/plain": [
       "LinearRegression()"
      ]
     },
     "execution_count": 10,
     "metadata": {},
     "output_type": "execute_result"
    }
   ],
   "source": [
    "#Set Linear Regression model and fit it to our training data\n",
    "baseline_model = LinearRegression()\n",
    "baseline_model.fit(X_train, y_train)"
   ]
  },
  {
   "cell_type": "markdown",
   "id": "0b029914",
   "metadata": {},
   "source": [
    "Now we'll generate predictions for Next_WAR for our X_train data and compare it to the actual Next_WAR in the y_train data."
   ]
  },
  {
   "cell_type": "code",
   "execution_count": 11,
   "id": "48466ae8",
   "metadata": {},
   "outputs": [
    {
     "data": {
      "text/plain": [
       "1.6489071991810345"
      ]
     },
     "execution_count": 11,
     "metadata": {},
     "output_type": "execute_result"
    }
   ],
   "source": [
    "# Generate predictions using baseline_model and X_train\n",
    "y_pred_baseline = baseline_model.predict(X_train)\n",
    "\n",
    "# Evaluate using mean_squared_error with squared=False\n",
    "baseline_rmse = mean_squared_error(y_train, y_pred_baseline, squared=False)\n",
    "baseline_rmse"
   ]
  },
  {
   "cell_type": "markdown",
   "id": "c2b4696b",
   "metadata": {},
   "source": [
    "Let's perform cross validation to see how the model performs on unseen data"
   ]
  },
  {
   "cell_type": "code",
   "execution_count": 13,
   "id": "7775ab0e",
   "metadata": {},
   "outputs": [
    {
     "data": {
      "text/plain": [
       "1.658667284536147"
      ]
     },
     "execution_count": 13,
     "metadata": {},
     "output_type": "execute_result"
    }
   ],
   "source": [
    "# Import the relevant function\n",
    "from sklearn.model_selection import cross_val_score\n",
    "\n",
    "# Get the cross validated scores for our baseline model\n",
    "baseline_cv = cross_val_score(baseline_model, X_train, y_train, scoring=\"neg_root_mean_squared_error\")\n",
    "\n",
    "# Display the average of the cross-validated scores\n",
    "baseline_cv_rmse = -(baseline_cv.mean())\n",
    "baseline_cv_rmse"
   ]
  },
  {
   "cell_type": "markdown",
   "id": "4f41497d",
   "metadata": {},
   "source": [
    "## Analysis of Baseline Model\n",
    "\n",
    "Our **RMSE is about 1.649**. So this means the simple linear regression model is on average off by about 1.65 WAR in it's prediction of a player's Next_WAR. If we remember that is **within 1 standard deviation of WAR** distribution we calculated for the whole dataset. That's pretty good already!\n",
    "\n",
    "For the next iteration of the model we're going to try to add polynomial factors to make it greedier and generally less Underfit."
   ]
  },
  {
   "cell_type": "markdown",
   "id": "3110e359",
   "metadata": {},
   "source": [
    "## Use PolynomialFeatures to Reduce Underfitting\n",
    "\n",
    "The idea behind Polynomial features is that **not every stat in our model is likely to have a perfectly linear relationship with Next_WAR**. \n",
    "\n",
    "Take Age for example, which is in our model. One could expect that a player just entering the league is going to have to have some adjustment time to get used to the Major League level, and as they compete at that level for a few years they enter the peak of their career, a positive correlation between Age and Next_WAR. Once the same player passes his prime though, and continues to age you might expect you can start seeing a negative correlation between age and Next_WAR.\n",
    "\n",
    "Adding polynomial degrees to our model make's it possible to **capture these non-linear complexities, at the risk of overfitting**"
   ]
  },
  {
   "cell_type": "code",
   "execution_count": 14,
   "id": "117a5894",
   "metadata": {},
   "outputs": [],
   "source": [
    "# Instantiate polynomial features transformer\n",
    "poly = PolynomialFeatures()\n",
    "\n",
    "# Fit transformer on entire X_train\n",
    "poly.fit(X_train)\n",
    "\n",
    "# Create transformed data matrix by transforming X_train\n",
    "X_train_poly = poly.transform(X_train)"
   ]
  },
  {
   "cell_type": "code",
   "execution_count": 18,
   "id": "11b823bf",
   "metadata": {},
   "outputs": [],
   "source": [
    "# Fit baseline_model\n",
    "baseline_model.fit(X_train_poly, y_train)\n",
    "\n",
    "# Make predictions\n",
    "y_pred_poly = baseline_model.predict(X_train_poly)\n",
    "\n",
    "# Find the RMSE on the full y_pred_poly and y_train\n",
    "poly_rmse = mean_squared_error(y_train, y_pred_poly, squared=False)\n",
    "\n",
    "#Perform Cross-Validation\n",
    "\n",
    "# Get the cross validated scores for our transformed features\n",
    "poly_cv = cross_val_score(baseline_model, X_train_poly, y_train, scoring=\"neg_root_mean_squared_error\")\n",
    "\n",
    "# Display the average of the cross-validated scores\n",
    "poly_cv_rmse = -(poly_cv.mean())"
   ]
  },
  {
   "cell_type": "code",
   "execution_count": 19,
   "id": "be3b21b7",
   "metadata": {},
   "outputs": [
    {
     "name": "stdout",
     "output_type": "stream",
     "text": [
      "Baseline Model\n",
      "Train RMSE: 1.6489071991810345\n",
      "Validation RMSE: 1.658667284536147\n",
      "\n",
      "Model with Polynomial Transformation\n",
      "Train RMSE: 1.6092359897852409\n",
      "Validation RMSE: 1.6943929205414754\n"
     ]
    }
   ],
   "source": [
    "print(\"Baseline Model\")\n",
    "print(\"Train RMSE:\", baseline_rmse)\n",
    "print(\"Validation RMSE:\", baseline_cv_rmse)\n",
    "print()\n",
    "print(\"Model with Polynomial Transformation\")\n",
    "print(\"Train RMSE:\", poly_rmse)\n",
    "print(\"Validation RMSE:\", poly_cv_rmse)"
   ]
  },
  {
   "cell_type": "markdown",
   "id": "c0bc8609",
   "metadata": {},
   "source": [
    "Note: our RMSE decreased with our testing data on seen data. On the other hand, our unseen data has a higher RMSE with the cross validation.\n",
    "\n",
    "While it's true that we are ultimately concerned with producing a model that performs best with blind data, this is fine becasue we're intentionally increasing overfitting at this stage with the hopes that in our third model we can reduce overfitting with with Regularization, while keeping the benefits from the polynomial factors addition to the model.\n",
    "\n",
    "**So how do we decide how many degrees of polynomials to add?**\n",
    "\n",
    "To find this we'll test our model at different polynomial degrees and see how differently they perform."
   ]
  },
  {
   "cell_type": "code",
   "execution_count": 20,
   "id": "c2663fa7",
   "metadata": {},
   "outputs": [
    {
     "data": {
      "image/png": "[encoded data removed]",
      "text/plain": [
       "<Figure size 936x360 with 2 Axes>"
      ]
     },
     "metadata": {
      "needs_background": "light"
     },
     "output_type": "display_data"
    }
   ],
   "source": [
    "# Create lists of RMSE values\n",
    "train_rmse = []\n",
    "val_rmse = []\n",
    "\n",
    "# Create list of degrees we want to consider\n",
    "degrees = [*range(1,4)]\n",
    "\n",
    "for degree in degrees:\n",
    "    # Create transformer of relevant degree and transform X_train\n",
    "    poly = PolynomialFeatures(degree)\n",
    "    X_train_poly = poly.fit_transform(X_train)\n",
    "    baseline_model.fit(X_train_poly, y_train)\n",
    "    \n",
    "    # RMSE for training data\n",
    "    y_pred_poly = baseline_model.predict(X_train_poly)\n",
    "    train_rmse.append(mean_squared_error(y_train, y_pred_poly, squared=False))\n",
    "    \n",
    "    # RMSE for validation data\n",
    "    poly_cv = cross_val_score(baseline_model, X_train_poly, y_train, scoring=\"neg_root_mean_squared_error\")\n",
    "    val_rmse.append(-(poly_cv.mean()))\n",
    "\n",
    "# Set up plot\n",
    "import matplotlib.pyplot as plt\n",
    "fig, (ax1, ax2) = plt.subplots(ncols=2, figsize=(13,5))\n",
    "\n",
    "# Plot RMSE for training data\n",
    "ax1.plot(degrees, train_rmse)\n",
    "ax1.set_title(\"Training Data\")\n",
    "\n",
    "# Plot RMSE for validation data\n",
    "ax2.plot(degrees, val_rmse, color=\"orange\")\n",
    "ax2.set_title(\"Validation Data\")\n",
    "\n",
    "# Shared attributes for plots\n",
    "for ax in (ax1, ax2):\n",
    "    ax.set_xticks(degrees)\n",
    "    ax.set_xlabel(\"Polynomial Degree\")\n",
    "    ax.set_ylabel(\"RMSE\")"
   ]
  },
  {
   "cell_type": "code",
   "execution_count": 22,
   "id": "b2473b4a",
   "metadata": {},
   "outputs": [],
   "source": [
    "# Create transformer of relevant degree and transform X_train\n",
    "poly = PolynomialFeatures(1)\n",
    "X_train_poly = poly.fit_transform(X_train)\n",
    "baseline_model.fit(X_train_poly, y_train)\n",
    "\n",
    "# RMSE for training data\n",
    "y_pred_poly = baseline_model.predict(X_train_poly)\n",
    "final_poly_rmse = mean_squared_error(y_train, y_pred_poly, squared=False)\n",
    "\n",
    "# RMSE for validation data\n",
    "poly_cv = cross_val_score(baseline_model, X_train_poly, y_train, scoring=\"neg_root_mean_squared_error\")\n",
    "final_poly_cv_rmse = -(poly_cv.mean())"
   ]
  },
  {
   "cell_type": "markdown",
   "id": "eca88cf8",
   "metadata": {},
   "source": [
    "So as we increase polynomial degree our RMSE decreases for the training data, and consistantly increases for the validation data. \n",
    "\n",
    "(Note testing beyond 3 degrees takes a lot of time for the kernal to run and reseults of a RMSE for valiation error well beyond reason and makes our graph harder to read, so we left it out)\n",
    "\n",
    "Choosing which # of polynomial degrees with does not have an objective answer, but for the sake of being through I tested each degree with the remainder of the model tuning processes we do below and by fractional margins **a Polynomial Degree of 1 performs the best**. So that's what we're going to move forward with. \n",
    "\n",
    "(This ultimately means we're going back to the simple linear model before Regularization)"
   ]
  },
  {
   "cell_type": "markdown",
   "id": "0c292487",
   "metadata": {},
   "source": [
    "## Using Regularization to Reduce Overfitting\n",
    "\n",
    "Although our model doesn't show any signs of overfitting, with training and test data performing almost the same, we're going to test and see if we can reduce any hidden overfitting effects to improve our model performance with regularization.\n",
    "\n",
    "The regularization technique we'll be using is **Ridge Regression**, which uses an alpha value to **add a regularization penalty and adjust minorly adjust our model's coefficients**.\n",
    "\n",
    "In order to performe Ridge regression we'll be following many of the same steps as above, but we also **first must scale our data** before fitting it to a Ridge model, which we'll do with a **StandardScalar**."
   ]
  },
  {
   "cell_type": "code",
   "execution_count": 23,
   "id": "05d44e74",
   "metadata": {},
   "outputs": [
    {
     "name": "stdout",
     "output_type": "stream",
     "text": [
      "Train RMSE: 1.6489072606577444\n",
      "Validation RMSE: 1.6586589681361872\n"
     ]
    }
   ],
   "source": [
    "# Instantiate the scaler\n",
    "scaler = StandardScaler()\n",
    "\n",
    "# Fit the scaler on X_train_poly\n",
    "scaler.fit(X_train_poly)\n",
    "\n",
    "# Transform the data and create a new matrix\n",
    "X_train_scaled = scaler.transform(X_train_poly)\n",
    "\n",
    "# Instantiate the model with random_state=100\n",
    "ridge_model = Ridge(random_state = 100)\n",
    "\n",
    "# Fit the model\n",
    "ridge_model.fit(X_train_scaled, y_train)\n",
    "\n",
    "\n",
    "y_pred_ridge = ridge_model.predict(X_train_scaled)\n",
    "ridge_rmse = mean_squared_error(y_train, y_pred_ridge, squared=False)\n",
    "\n",
    "# RMSE for validation data\n",
    "ridge_cv = cross_val_score(ridge_model, X_train_scaled, y_train, scoring=\"neg_root_mean_squared_error\")\n",
    "ridge_cv_rmse = -(ridge_cv.mean())\n",
    "\n",
    "print(\"Train RMSE:\", ridge_rmse)\n",
    "print(\"Validation RMSE:\", ridge_cv_rmse)"
   ]
  },
  {
   "cell_type": "markdown",
   "id": "0a316e9a",
   "metadata": {},
   "source": [
    "So with regularization we're not seeing much of a difference either. Let's test how regularization has different effects at a variety of alpha values (the greater the alpha value the greater the change in model coefficients)"
   ]
  },
  {
   "cell_type": "code",
   "execution_count": 27,
   "id": "2f42282a",
   "metadata": {},
   "outputs": [
    {
     "data": {
      "image/png": "[encoded data removed]",
      "text/plain": [
       "<Figure size 432x432 with 1 Axes>"
      ]
     },
     "metadata": {
      "needs_background": "light"
     },
     "output_type": "display_data"
    }
   ],
   "source": [
    "train_rmse = []\n",
    "val_rmse = []\n",
    "\n",
    "# Create list of alphas we want to consider\n",
    "alphas = [1, 10, 25, 50, 75, 100, 125]#, 250, 500, 1000, 1500, 2000, 3000, 4000]\n",
    "\n",
    "for alpha in alphas:\n",
    "    # Fit a model with a given regularization penalty\n",
    "    model = Ridge(random_state=42, alpha=alpha)\n",
    "    model.fit(X_train_scaled, y_train)\n",
    "    \n",
    "    # RMSE for training data\n",
    "    y_pred_ridge = model.predict(X_train_scaled)\n",
    "    train_rmse.append(mean_squared_error(y_train, y_pred_ridge, squared=False))\n",
    "    \n",
    "    # RMSE for validation data\n",
    "    ridge_cv = cross_val_score(model, X_train_scaled, y_train, scoring=\"neg_root_mean_squared_error\")\n",
    "    val_rmse.append(-(ridge_cv.mean()))\n",
    "\n",
    "# Plot train vs. validation RMSE\n",
    "fig, ax = plt.subplots(figsize=(6,6))\n",
    "ax.plot(alphas, train_rmse, label=\"Training Data\")\n",
    "ax.plot(alphas, val_rmse, label=\"Validation Data\")\n",
    "ax.set_xlabel(\"Alpha (Regularization Penalty)\")\n",
    "ax.set_ylabel(\"RMSE\")\n",
    "ax.legend();"
   ]
  },
  {
   "cell_type": "code",
   "execution_count": 28,
   "id": "0cad8a11",
   "metadata": {},
   "outputs": [
    {
     "name": "stdout",
     "output_type": "stream",
     "text": [
      "Lowest RMSE: 1.6584822220789632\n",
      "Best alpha: 50\n"
     ]
    }
   ],
   "source": [
    "lowest_rmse = min(val_rmse)\n",
    "print(\"Lowest RMSE:\", lowest_rmse)\n",
    "\n",
    "best_alpha = alphas[val_rmse.index(lowest_rmse)]\n",
    "print(\"Best alpha:\", best_alpha)"
   ]
  },
  {
   "cell_type": "markdown",
   "id": "82780112",
   "metadata": {},
   "source": [
    "So just by visualizing the Model above, **dramatically increasing our alphas only really changing the RMSE for our validation data ever so slightly**, about 0.001 RMSE. Which is definitely not statistically signifcant"
   ]
  },
  {
   "cell_type": "code",
   "execution_count": 30,
   "id": "e5489042",
   "metadata": {},
   "outputs": [],
   "source": [
    "final_model = Ridge(random_state=100, alpha=best_alpha)\n",
    "final_model.fit(X_train_scaled, y_train)\n",
    "\n",
    "# RMSE for training data\n",
    "y_pred_final = final_model.predict(X_train_scaled)\n",
    "final_rmse = mean_squared_error(y_train, y_pred_final, squared=False)\n",
    "\n",
    "# RMSE for validation data\n",
    "final_cv = cross_val_score(final_model, X_train_scaled, y_train, scoring=\"neg_root_mean_squared_error\")\n",
    "final_cv_rmse = -(final_cv.mean())"
   ]
  },
  {
   "cell_type": "code",
   "execution_count": 31,
   "id": "c6660d4e",
   "metadata": {},
   "outputs": [
    {
     "name": "stdout",
     "output_type": "stream",
     "text": [
      "Baseline Model\n",
      "Train RMSE: 1.6489071991810345\n",
      "Validation RMSE: 1.658667284536147\n",
      "\n",
      "Model with Polynomial Transformation (Degree 1)\n",
      "Train RMSE: 1.6489071991810345\n",
      "Validation RMSE: 1.6586672845361465\n",
      "\n",
      "Model with Polynomial Transformation + Regularization\n",
      "Train RMSE: 1.6489072606577444\n",
      "Validation RMSE: 1.6586589681361872\n"
     ]
    }
   ],
   "source": [
    "print(\"Baseline Model\")\n",
    "print(\"Train RMSE:\", baseline_rmse)\n",
    "print(\"Validation RMSE:\", baseline_cv_rmse)\n",
    "print()\n",
    "print(\"Model with Polynomial Transformation (Degree 1)\")\n",
    "print(\"Train RMSE:\", final_poly_rmse)\n",
    "print(\"Validation RMSE:\", final_poly_cv_rmse)\n",
    "print()\n",
    "print(\"Model with Polynomial Transformation + Regularization\")\n",
    "print(\"Train RMSE:\", ridge_rmse)\n",
    "print(\"Validation RMSE:\", ridge_cv_rmse)"
   ]
  },
  {
   "cell_type": "markdown",
   "id": "56303be7",
   "metadata": {},
   "source": [
    "So for our final model after all tuning, we didn't manage to move much from our original simple Linear Regression model. Which is ok because remember that was already performing reasonably. \n",
    "\n",
    "We'll explore some reasons for the seemingly irreducible error in our takeaways. And we'll discuss what could be done to further tune our model to get past some of those barriers.\n",
    "\n",
    "First though, we'll take a closer look at this model's performance."
   ]
  },
  {
   "cell_type": "markdown",
   "id": "32f7f1da",
   "metadata": {},
   "source": [
    "## Evaluate a Final Model on the Test Set"
   ]
  },
  {
   "cell_type": "code",
   "execution_count": 32,
   "id": "37fb65b7",
   "metadata": {},
   "outputs": [],
   "source": [
    "# Instantiate the final model\n",
    "final_model = Ridge(alpha= best_alpha, random_state= 100)\n",
    "\n",
    "#Fit the model\n",
    "final_model.fit(X_train_scaled, y_train)\n",
    "\n",
    "# Add polynomial features (these steps left in for easier replication and for future data that may make this useful)\n",
    "X_test_poly = poly.transform(X_test)\n",
    "\n",
    "# Scale data\n",
    "X_test_scaled = scaler.transform(X_test_poly)"
   ]
  },
  {
   "cell_type": "code",
   "execution_count": 33,
   "id": "25d4f230",
   "metadata": {},
   "outputs": [
    {
     "data": {
      "text/plain": [
       "1.711034418590015"
      ]
     },
     "execution_count": 33,
     "metadata": {},
     "output_type": "execute_result"
    }
   ],
   "source": [
    "# Generate predictions\n",
    "y_pred_test = final_model.predict(X_test_scaled)\n",
    "\n",
    "# Find RMSE\n",
    "test_rmse = mean_squared_error(y_test, y_pred_test, squared= False)\n",
    "test_rmse"
   ]
  },
  {
   "cell_type": "markdown",
   "id": "e761311b",
   "metadata": {},
   "source": [
    "So our RMSE error on our test data is a little higher than what we saw in our validation set, but not by a significant margin.\n",
    "\n",
    "Let's visualize our model's performance to see if we can identify where the model is making it's errors"
   ]
  },
  {
   "cell_type": "code",
   "execution_count": 34,
   "id": "f033dc75",
   "metadata": {},
   "outputs": [
    {
     "data": {
      "image/png": "[encoded data removed]",
      "text/plain": [
       "<Figure size 576x432 with 1 Axes>"
      ]
     },
     "metadata": {
      "needs_background": "light"
     },
     "output_type": "display_data"
    }
   ],
   "source": [
    "# Set up plot\n",
    "fig, ax = plt.subplots(figsize=(8,6))\n",
    "\n",
    "# Seaborn scatter plot with best fit line\n",
    "sns.regplot(x=y_test, y=y_pred_test, ci=None, truncate=False, ax=ax)\n",
    "ax.set_xlabel(\"Actual Next_WAR\")\n",
    "ax.set_ylabel(\"Predicted Next_WAR\")\n",
    "\n",
    "# Add spans showing high blood pressure + legend\n",
    "ax.axvspan(5, max(y_test) + 1, alpha=0.2, color=\"blue\", label=\"Actual High Next_WAR\")\n",
    "ax.axhspan(5, max(y_pred_test) + 1, alpha=0.2, color=\"gray\", label=\"Predicted High Next_WAR\")\n",
    "ax.legend();"
   ]
  },
  {
   "cell_type": "code",
   "execution_count": 36,
   "id": "58bd715a",
   "metadata": {},
   "outputs": [
    {
     "data": {
      "image/png": "[encoded data removed]",
      "text/plain": [
       "<Figure size 576x432 with 1 Axes>"
      ]
     },
     "metadata": {
      "needs_background": "light"
     },
     "output_type": "display_data"
    }
   ],
   "source": [
    "# Set up plot\n",
    "fig, ax = plt.subplots(figsize=(8,6))\n",
    "\n",
    "# Seaborn scatter plot with best fit line\n",
    "sns.regplot(x=y_test, y=y_pred_test, ci=None, truncate=False, ax=ax)\n",
    "ax.set_xlabel(\"Actual Next_WAR\")\n",
    "ax.set_ylabel(\"Predicted Next_WAR\")\n",
    "\n",
    "# Add spans showing high blood pressure + legend\n",
    "ax.axvspan(min(y_test) + -1, 1, alpha=0.2, color=\"blue\", label=\"Actual Low Next_WAR\")\n",
    "ax.axhspan(min(y_pred_test) - 1, 1, alpha=0.2, color=\"gray\", label=\"Predicted Low Next_WAR\")\n",
    "ax.legend();"
   ]
  },
  {
   "cell_type": "markdown",
   "id": "0ac6dbe1",
   "metadata": {},
   "source": [
    "## Conclusion\n",
    "\n",
    "Our model is **performing pretty well at prediction seasons where players are going to have mediocre to poor WARs**.\n",
    "\n",
    "**Where the model is failing is in identifying when players are going to have exceptionally strong seasons**. This could make sense, players have \"oddities\" of seaasons from time to time, where through some combination of luck and streaky spurts of talent a player makes a name for themselves in the MLB.\n",
    "\n",
    "In many cases a player doesn't come up to the MLB and make a splash their rookie year, and if they are great in their rookie year, they're still unproven, so they'll be hitting lower in the lineup  and getting less play opportunities. \n",
    "\n",
    "That said, the model was still able to predict within 1 standard deviation on average, which should definitely give some level of confidence.\n",
    "\n",
    "That said, in terms of our business values **the model needs to be more consistent to provide industry value**. \n",
    "\n",
    "Whether you're a Team Manager, a front office General Manager, or setting the betting lines for a sport's betting company, **you want to feel like your model has an edge on what conclusions you could come up with with regular obesvations**. So while the model isn't completely failing, there are certainly additional steps that could stengthen it.\n",
    "\n",
    "#### Next Steps\n",
    "\n",
    "1. Since we've identified that our model does poorly at predicting breakout performances, a solution could be that the model needs to find a way to incorporate their **Minor League stats**.\n",
    "2. Could we expand our model potentially to **track how a pattern of WAR over several seasons can predict Next_WAR**? Rather than predicting next season WAR off just the prior season's stats.\n",
    "3. **Lets test our model with prediction based off the 2022 season and track it's successes and failures**\n"
   ]
  },
  {
   "cell_type": "markdown",
   "id": "d7146e78",
   "metadata": {},
   "source": [
    "### Bonus: Predicting 2023 season WAR"
   ]
  },
  {
   "cell_type": "code",
   "execution_count": 40,
   "id": "c876c6f6",
   "metadata": {},
   "outputs": [],
   "source": [
    "def predict_2023_performance(pos):\n",
    "    \n",
    "    #Pull pos player's 2022 season statistics\n",
    "    posbatstat = batting_stats(2022, 2022, qual=200, position = pos)\n",
    "    \n",
    "    #sort to only have the predictor variables\n",
    "    pos_input = posbatstat[predictors]\n",
    "    \n",
    "    #poly transform the pos_input data\n",
    "    pos_poly = poly.transform(pos_input)\n",
    "    \n",
    "    #This is an ugly way of extracting the Next_WAR data from the prediction as a pandas DataFrame\n",
    "    pos_predictions = pd.DataFrame(final_model.predict(pos_poly))\n",
    "    pos_predictions[\"Next_WAR\"] = pos_predictions[0]\n",
    "    \n",
    "    #Pull predictions together with input frame\n",
    "    pos_output = pos_input.join(pos_predictions)\n",
    "    \n",
    "    #Pull output together with Name Season and Team variables that were lost\n",
    "    pos_output = pd.DataFrame(posbatstat[[\"Name\", \"Season\", \"Team\"]]).join(pos_output)\n",
    "    \n",
    "    return pos_output"
   ]
  },
  {
   "cell_type": "markdown",
   "id": "3b5686fc",
   "metadata": {},
   "source": [
    "**Lets look at how the top our model predicts the top 10 shortstops from 2022 to perform in 2023**"
   ]
  },
  {
   "cell_type": "code",
   "execution_count": 46,
   "id": "977365a5",
   "metadata": {},
   "outputs": [
    {
     "data": {
      "text/html": [
       "<div>\n",
       "<style scoped>\n",
       "    .dataframe tbody tr th:only-of-type {\n",
       "        vertical-align: middle;\n",
       "    }\n",
       "\n",
       "    .dataframe tbody tr th {\n",
       "        vertical-align: top;\n",
       "    }\n",
       "\n",
       "    .dataframe thead th {\n",
       "        text-align: right;\n",
       "    }\n",
       "</style>\n",
       "<table border=\"1\" class=\"dataframe\">\n",
       "  <thead>\n",
       "    <tr style=\"text-align: right;\">\n",
       "      <th></th>\n",
       "      <th>Name</th>\n",
       "      <th>Season</th>\n",
       "      <th>Team</th>\n",
       "      <th>WAR</th>\n",
       "      <th>Next_WAR</th>\n",
       "    </tr>\n",
       "  </thead>\n",
       "  <tbody>\n",
       "    <tr>\n",
       "      <th>4</th>\n",
       "      <td>Francisco Lindor</td>\n",
       "      <td>2022</td>\n",
       "      <td>NYM</td>\n",
       "      <td>6.8</td>\n",
       "      <td>6.917300</td>\n",
       "    </tr>\n",
       "    <tr>\n",
       "      <th>5</th>\n",
       "      <td>Dansby Swanson</td>\n",
       "      <td>2022</td>\n",
       "      <td>ATL</td>\n",
       "      <td>6.4</td>\n",
       "      <td>1.667297</td>\n",
       "    </tr>\n",
       "    <tr>\n",
       "      <th>2</th>\n",
       "      <td>Trea Turner</td>\n",
       "      <td>2022</td>\n",
       "      <td>LAD</td>\n",
       "      <td>6.3</td>\n",
       "      <td>5.832474</td>\n",
       "    </tr>\n",
       "    <tr>\n",
       "      <th>0</th>\n",
       "      <td>Xander Bogaerts</td>\n",
       "      <td>2022</td>\n",
       "      <td>BOS</td>\n",
       "      <td>6.1</td>\n",
       "      <td>1.604064</td>\n",
       "    </tr>\n",
       "    <tr>\n",
       "      <th>12</th>\n",
       "      <td>Tommy Edman</td>\n",
       "      <td>2022</td>\n",
       "      <td>STL</td>\n",
       "      <td>5.6</td>\n",
       "      <td>-2.443622</td>\n",
       "    </tr>\n",
       "    <tr>\n",
       "      <th>7</th>\n",
       "      <td>Willy Adames</td>\n",
       "      <td>2022</td>\n",
       "      <td>MIL</td>\n",
       "      <td>4.7</td>\n",
       "      <td>14.560846</td>\n",
       "    </tr>\n",
       "    <tr>\n",
       "      <th>3</th>\n",
       "      <td>Bo Bichette</td>\n",
       "      <td>2022</td>\n",
       "      <td>TOR</td>\n",
       "      <td>4.5</td>\n",
       "      <td>2.100935</td>\n",
       "    </tr>\n",
       "    <tr>\n",
       "      <th>6</th>\n",
       "      <td>Corey Seager</td>\n",
       "      <td>2022</td>\n",
       "      <td>TEX</td>\n",
       "      <td>4.5</td>\n",
       "      <td>8.921839</td>\n",
       "    </tr>\n",
       "    <tr>\n",
       "      <th>1</th>\n",
       "      <td>Carlos Correa</td>\n",
       "      <td>2022</td>\n",
       "      <td>MIN</td>\n",
       "      <td>4.4</td>\n",
       "      <td>3.902566</td>\n",
       "    </tr>\n",
       "    <tr>\n",
       "      <th>11</th>\n",
       "      <td>Nico Hoerner</td>\n",
       "      <td>2022</td>\n",
       "      <td>CHC</td>\n",
       "      <td>4.0</td>\n",
       "      <td>-0.616988</td>\n",
       "    </tr>\n",
       "  </tbody>\n",
       "</table>\n",
       "</div>"
      ],
      "text/plain": [
       "                Name  Season Team  WAR   Next_WAR\n",
       "4   Francisco Lindor    2022  NYM  6.8   6.917300\n",
       "5     Dansby Swanson    2022  ATL  6.4   1.667297\n",
       "2        Trea Turner    2022  LAD  6.3   5.832474\n",
       "0    Xander Bogaerts    2022  BOS  6.1   1.604064\n",
       "12       Tommy Edman    2022  STL  5.6  -2.443622\n",
       "7       Willy Adames    2022  MIL  4.7  14.560846\n",
       "3        Bo Bichette    2022  TOR  4.5   2.100935\n",
       "6       Corey Seager    2022  TEX  4.5   8.921839\n",
       "1      Carlos Correa    2022  MIN  4.4   3.902566\n",
       "11      Nico Hoerner    2022  CHC  4.0  -0.616988"
      ]
     },
     "execution_count": 46,
     "metadata": {},
     "output_type": "execute_result"
    }
   ],
   "source": [
    "sspred = predict_2023_performance(\"SS\")\n",
    "sspred[[\"Name\", \"Season\", \"Team\", \"WAR\", \"Next_WAR\"]].head(10)"
   ]
  },
  {
   "cell_type": "markdown",
   "id": "85c0367b",
   "metadata": {},
   "source": [
    "That's quite shocking that **Willy Adames has a Next_WAR predicted at 14.56**, which would would be the **single greatest season of any player ever**... and he recorded just the **6th best WAR from the 2022 season**.\n",
    "\n",
    "It will certainly be entertaining to watch if that ends up being the case!"
   ]
  },
  {
   "cell_type": "code",
   "execution_count": null,
   "id": "dd37a5cd",
   "metadata": {},
   "outputs": [],
   "source": []
  }
 ],
 "metadata": {
  "kernelspec": {
   "display_name": "Python 3 (ipykernel)",
   "language": "python",
   "name": "python3"
  },
  "language_info": {
   "codemirror_mode": {
    "name": "ipython",
    "version": 3
   },
   "file_extension": ".py",
   "mimetype": "text/x-python",
   "name": "python",
   "nbconvert_exporter": "python",
   "pygments_lexer": "ipython3",
   "version": "3.9.12"
  }
 },
 "nbformat": 4,
 "nbformat_minor": 5
}
