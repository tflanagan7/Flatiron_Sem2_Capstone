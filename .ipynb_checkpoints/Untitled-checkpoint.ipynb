{
 "cells": [
  {
   "cell_type": "code",
   "execution_count": 1,
   "metadata": {
    "colab": {
     "base_uri": "https://localhost:8080/"
    },
    "id": "h-JS0hrwJNJu",
    "outputId": "d763abb4-65d1-4d26-a9ba-25db01d0662e"
   },
   "outputs": [],
   "source": [
    "#%pip install pybaseball\n",
    "\n",
    "#pybaseball is a wonderfully helpful open source Package for baseball data analysis that will save me a lot of unnecessary\n",
    "#webscraping with beautiful soup, and it will save time data cleaning as well."
   ]
  },
  {
   "cell_type": "code",
   "execution_count": 2,
   "metadata": {
    "id": "k3yZG6sXJNJw"
   },
   "outputs": [],
   "source": [
    "import os\n",
    "import pandas as pd\n",
    "import numpy as np\n",
    "from pybaseball import batting_stats"
   ]
  },
  {
   "cell_type": "code",
   "execution_count": 3,
   "metadata": {
    "id": "AFz4Z93eJNJx"
   },
   "outputs": [],
   "source": [
    "#Define what time period of years we want to select data from"
   ]
  },
  {
   "cell_type": "code",
   "execution_count": 4,
   "metadata": {
    "id": "ctrD1EnEJNJy"
   },
   "outputs": [],
   "source": [
    "START = 2002\n",
    "END = 2022"
   ]
  },
  {
   "cell_type": "code",
   "execution_count": 5,
   "metadata": {
    "id": "rO2LEovtJNJy"
   },
   "outputs": [],
   "source": [
    "batstat = batting_stats(START, END, qual=200)"
   ]
  },
  {
   "cell_type": "code",
   "execution_count": 6,
   "metadata": {
    "colab": {
     "base_uri": "https://localhost:8080/",
     "height": 424
    },
    "id": "Ojihl3jeJNJz",
    "outputId": "9a95cb18-9d57-4284-a5e8-f062e456955e"
   },
   "outputs": [
    {
     "data": {
      "text/html": [
       "<div>\n",
       "<style scoped>\n",
       "    .dataframe tbody tr th:only-of-type {\n",
       "        vertical-align: middle;\n",
       "    }\n",
       "\n",
       "    .dataframe tbody tr th {\n",
       "        vertical-align: top;\n",
       "    }\n",
       "\n",
       "    .dataframe thead th {\n",
       "        text-align: right;\n",
       "    }\n",
       "</style>\n",
       "<table border=\"1\" class=\"dataframe\">\n",
       "  <thead>\n",
       "    <tr style=\"text-align: right;\">\n",
       "      <th></th>\n",
       "      <th>IDfg</th>\n",
       "      <th>Season</th>\n",
       "      <th>Name</th>\n",
       "      <th>Team</th>\n",
       "      <th>Age</th>\n",
       "      <th>G</th>\n",
       "      <th>AB</th>\n",
       "      <th>PA</th>\n",
       "      <th>H</th>\n",
       "      <th>1B</th>\n",
       "      <th>...</th>\n",
       "      <th>maxEV</th>\n",
       "      <th>HardHit</th>\n",
       "      <th>HardHit%</th>\n",
       "      <th>Events</th>\n",
       "      <th>CStr%</th>\n",
       "      <th>CSW%</th>\n",
       "      <th>xBA</th>\n",
       "      <th>xSLG</th>\n",
       "      <th>xwOBA</th>\n",
       "      <th>L-WAR</th>\n",
       "    </tr>\n",
       "  </thead>\n",
       "  <tbody>\n",
       "    <tr>\n",
       "      <th>0</th>\n",
       "      <td>1109</td>\n",
       "      <td>2002</td>\n",
       "      <td>Barry Bonds</td>\n",
       "      <td>SFG</td>\n",
       "      <td>37</td>\n",
       "      <td>143</td>\n",
       "      <td>403</td>\n",
       "      <td>612</td>\n",
       "      <td>149</td>\n",
       "      <td>70</td>\n",
       "      <td>...</td>\n",
       "      <td>NaN</td>\n",
       "      <td>NaN</td>\n",
       "      <td>NaN</td>\n",
       "      <td>0</td>\n",
       "      <td>0.127</td>\n",
       "      <td>0.191</td>\n",
       "      <td>NaN</td>\n",
       "      <td>NaN</td>\n",
       "      <td>NaN</td>\n",
       "      <td>12.7</td>\n",
       "    </tr>\n",
       "    <tr>\n",
       "      <th>1</th>\n",
       "      <td>1109</td>\n",
       "      <td>2004</td>\n",
       "      <td>Barry Bonds</td>\n",
       "      <td>SFG</td>\n",
       "      <td>39</td>\n",
       "      <td>147</td>\n",
       "      <td>373</td>\n",
       "      <td>617</td>\n",
       "      <td>135</td>\n",
       "      <td>60</td>\n",
       "      <td>...</td>\n",
       "      <td>NaN</td>\n",
       "      <td>NaN</td>\n",
       "      <td>NaN</td>\n",
       "      <td>0</td>\n",
       "      <td>0.124</td>\n",
       "      <td>0.164</td>\n",
       "      <td>NaN</td>\n",
       "      <td>NaN</td>\n",
       "      <td>NaN</td>\n",
       "      <td>11.9</td>\n",
       "    </tr>\n",
       "    <tr>\n",
       "      <th>8</th>\n",
       "      <td>15640</td>\n",
       "      <td>2022</td>\n",
       "      <td>Aaron Judge</td>\n",
       "      <td>NYY</td>\n",
       "      <td>30</td>\n",
       "      <td>157</td>\n",
       "      <td>570</td>\n",
       "      <td>696</td>\n",
       "      <td>177</td>\n",
       "      <td>87</td>\n",
       "      <td>...</td>\n",
       "      <td>118.4</td>\n",
       "      <td>246.0</td>\n",
       "      <td>0.609</td>\n",
       "      <td>404</td>\n",
       "      <td>0.169</td>\n",
       "      <td>0.287</td>\n",
       "      <td>NaN</td>\n",
       "      <td>NaN</td>\n",
       "      <td>NaN</td>\n",
       "      <td>11.2</td>\n",
       "    </tr>\n",
       "  </tbody>\n",
       "</table>\n",
       "<p>3 rows × 320 columns</p>\n",
       "</div>"
      ],
      "text/plain": [
       "    IDfg  Season         Name Team  Age    G   AB   PA    H  1B  ...  maxEV  \\\n",
       "0   1109    2002  Barry Bonds  SFG   37  143  403  612  149  70  ...    NaN   \n",
       "1   1109    2004  Barry Bonds  SFG   39  147  373  617  135  60  ...    NaN   \n",
       "8  15640    2022  Aaron Judge  NYY   30  157  570  696  177  87  ...  118.4   \n",
       "\n",
       "   HardHit  HardHit%  Events  CStr%   CSW%  xBA  xSLG  xwOBA  L-WAR  \n",
       "0      NaN       NaN       0  0.127  0.191  NaN   NaN    NaN   12.7  \n",
       "1      NaN       NaN       0  0.124  0.164  NaN   NaN    NaN   11.9  \n",
       "8    246.0     0.609     404  0.169  0.287  NaN   NaN    NaN   11.2  \n",
       "\n",
       "[3 rows x 320 columns]"
      ]
     },
     "execution_count": 6,
     "metadata": {},
     "output_type": "execute_result"
    }
   ],
   "source": [
    "batstat.head(3)"
   ]
  },
  {
   "cell_type": "code",
   "execution_count": 7,
   "metadata": {
    "colab": {
     "base_uri": "https://localhost:8080/"
    },
    "id": "pbYYWMn_JNJ0",
    "outputId": "cfa27910-34ea-49eb-e80e-0bb64f517cf9"
   },
   "outputs": [
    {
     "data": {
      "text/plain": [
       "IDfg         0\n",
       "Season       0\n",
       "Name         0\n",
       "Team         0\n",
       "Age          0\n",
       "          ... \n",
       "CSW%         0\n",
       "xBA       7114\n",
       "xSLG      7114\n",
       "xwOBA     7114\n",
       "L-WAR        0\n",
       "Length: 320, dtype: int64"
      ]
     },
     "execution_count": 7,
     "metadata": {},
     "output_type": "execute_result"
    }
   ],
   "source": [
    "null_values = batstat.isnull().sum()\n",
    "null_values"
   ]
  },
  {
   "cell_type": "code",
   "execution_count": 8,
   "metadata": {
    "id": "UN01LdKLJNJ1"
   },
   "outputs": [],
   "source": [
    "batstat_nonnulls = batstat.columns[null_values == 0]\n",
    "batstat = batstat[batstat_nonnulls]"
   ]
  },
  {
   "cell_type": "code",
   "execution_count": 9,
   "metadata": {
    "colab": {
     "base_uri": "https://localhost:8080/",
     "height": 173
    },
    "id": "UQZsE_3YJNJ1",
    "outputId": "edf2e900-0a07-490c-c757-0402250aebd8"
   },
   "outputs": [
    {
     "data": {
      "text/html": [
       "<div>\n",
       "<style scoped>\n",
       "    .dataframe tbody tr th:only-of-type {\n",
       "        vertical-align: middle;\n",
       "    }\n",
       "\n",
       "    .dataframe tbody tr th {\n",
       "        vertical-align: top;\n",
       "    }\n",
       "\n",
       "    .dataframe thead th {\n",
       "        text-align: right;\n",
       "    }\n",
       "</style>\n",
       "<table border=\"1\" class=\"dataframe\">\n",
       "  <thead>\n",
       "    <tr style=\"text-align: right;\">\n",
       "      <th></th>\n",
       "      <th>IDfg</th>\n",
       "      <th>Season</th>\n",
       "      <th>Name</th>\n",
       "      <th>Team</th>\n",
       "      <th>Age</th>\n",
       "      <th>G</th>\n",
       "      <th>AB</th>\n",
       "      <th>PA</th>\n",
       "      <th>H</th>\n",
       "      <th>1B</th>\n",
       "      <th>...</th>\n",
       "      <th>Pull%+</th>\n",
       "      <th>Cent%+</th>\n",
       "      <th>Oppo%+</th>\n",
       "      <th>Soft%+</th>\n",
       "      <th>Med%+</th>\n",
       "      <th>Hard%+</th>\n",
       "      <th>Events</th>\n",
       "      <th>CStr%</th>\n",
       "      <th>CSW%</th>\n",
       "      <th>L-WAR</th>\n",
       "    </tr>\n",
       "  </thead>\n",
       "  <tbody>\n",
       "    <tr>\n",
       "      <th>0</th>\n",
       "      <td>1109</td>\n",
       "      <td>2002</td>\n",
       "      <td>Barry Bonds</td>\n",
       "      <td>SFG</td>\n",
       "      <td>37</td>\n",
       "      <td>143</td>\n",
       "      <td>403</td>\n",
       "      <td>612</td>\n",
       "      <td>149</td>\n",
       "      <td>70</td>\n",
       "      <td>...</td>\n",
       "      <td>105</td>\n",
       "      <td>106</td>\n",
       "      <td>87</td>\n",
       "      <td>64</td>\n",
       "      <td>83</td>\n",
       "      <td>171</td>\n",
       "      <td>0</td>\n",
       "      <td>0.127</td>\n",
       "      <td>0.191</td>\n",
       "      <td>12.7</td>\n",
       "    </tr>\n",
       "    <tr>\n",
       "      <th>1</th>\n",
       "      <td>1109</td>\n",
       "      <td>2004</td>\n",
       "      <td>Barry Bonds</td>\n",
       "      <td>SFG</td>\n",
       "      <td>39</td>\n",
       "      <td>147</td>\n",
       "      <td>373</td>\n",
       "      <td>617</td>\n",
       "      <td>135</td>\n",
       "      <td>60</td>\n",
       "      <td>...</td>\n",
       "      <td>112</td>\n",
       "      <td>96</td>\n",
       "      <td>86</td>\n",
       "      <td>65</td>\n",
       "      <td>76</td>\n",
       "      <td>171</td>\n",
       "      <td>0</td>\n",
       "      <td>0.124</td>\n",
       "      <td>0.164</td>\n",
       "      <td>11.9</td>\n",
       "    </tr>\n",
       "    <tr>\n",
       "      <th>8</th>\n",
       "      <td>15640</td>\n",
       "      <td>2022</td>\n",
       "      <td>Aaron Judge</td>\n",
       "      <td>NYY</td>\n",
       "      <td>30</td>\n",
       "      <td>157</td>\n",
       "      <td>570</td>\n",
       "      <td>696</td>\n",
       "      <td>177</td>\n",
       "      <td>87</td>\n",
       "      <td>...</td>\n",
       "      <td>118</td>\n",
       "      <td>91</td>\n",
       "      <td>84</td>\n",
       "      <td>46</td>\n",
       "      <td>83</td>\n",
       "      <td>159</td>\n",
       "      <td>404</td>\n",
       "      <td>0.169</td>\n",
       "      <td>0.287</td>\n",
       "      <td>11.2</td>\n",
       "    </tr>\n",
       "  </tbody>\n",
       "</table>\n",
       "<p>3 rows × 132 columns</p>\n",
       "</div>"
      ],
      "text/plain": [
       "    IDfg  Season         Name Team  Age    G   AB   PA    H  1B  ...  Pull%+  \\\n",
       "0   1109    2002  Barry Bonds  SFG   37  143  403  612  149  70  ...     105   \n",
       "1   1109    2004  Barry Bonds  SFG   39  147  373  617  135  60  ...     112   \n",
       "8  15640    2022  Aaron Judge  NYY   30  157  570  696  177  87  ...     118   \n",
       "\n",
       "   Cent%+  Oppo%+  Soft%+  Med%+  Hard%+  Events  CStr%   CSW%  L-WAR  \n",
       "0     106      87      64     83     171       0  0.127  0.191   12.7  \n",
       "1      96      86      65     76     171       0  0.124  0.164   11.9  \n",
       "8      91      84      46     83     159     404  0.169  0.287   11.2  \n",
       "\n",
       "[3 rows x 132 columns]"
      ]
     },
     "execution_count": 9,
     "metadata": {},
     "output_type": "execute_result"
    }
   ],
   "source": [
    "batstat.head(3)"
   ]
  },
  {
   "cell_type": "code",
   "execution_count": 10,
   "metadata": {
    "id": "NKXG8Y6vJNJ2"
   },
   "outputs": [],
   "source": [
    "def next_season(player):\n",
    "    player.sort_values(\"Season\", inplace = True)\n",
    "    player[\"Next_WAR\"] = player[\"WAR\"].shift(-1)\n",
    "    player.sort_values(\"IDfg\", inplace = True)\n",
    "    return player\n",
    "\n",
    "batstat = batstat.groupby(\"IDfg\", group_keys=False).apply(next_season)"
   ]
  },
  {
   "cell_type": "code",
   "execution_count": 11,
   "metadata": {
    "colab": {
     "base_uri": "https://localhost:8080/",
     "height": 676
    },
    "id": "Eil0nL2xJNJ2",
    "outputId": "957db4ea-a796-405a-dcf3-9c9bd4d0e9ec",
    "scrolled": true
   },
   "outputs": [
    {
     "data": {
      "text/html": [
       "<div>\n",
       "<style scoped>\n",
       "    .dataframe tbody tr th:only-of-type {\n",
       "        vertical-align: middle;\n",
       "    }\n",
       "\n",
       "    .dataframe tbody tr th {\n",
       "        vertical-align: top;\n",
       "    }\n",
       "\n",
       "    .dataframe thead th {\n",
       "        text-align: right;\n",
       "    }\n",
       "</style>\n",
       "<table border=\"1\" class=\"dataframe\">\n",
       "  <thead>\n",
       "    <tr style=\"text-align: right;\">\n",
       "      <th></th>\n",
       "      <th>IDfg</th>\n",
       "      <th>Name</th>\n",
       "      <th>Season</th>\n",
       "      <th>WAR</th>\n",
       "      <th>Next_WAR</th>\n",
       "    </tr>\n",
       "  </thead>\n",
       "  <tbody>\n",
       "    <tr>\n",
       "      <th>5562</th>\n",
       "      <td>1</td>\n",
       "      <td>Alfredo Amezaga</td>\n",
       "      <td>2006</td>\n",
       "      <td>1.1</td>\n",
       "      <td>2.0</td>\n",
       "    </tr>\n",
       "    <tr>\n",
       "      <th>5006</th>\n",
       "      <td>1</td>\n",
       "      <td>Alfredo Amezaga</td>\n",
       "      <td>2007</td>\n",
       "      <td>2.0</td>\n",
       "      <td>1.2</td>\n",
       "    </tr>\n",
       "    <tr>\n",
       "      <th>5252</th>\n",
       "      <td>1</td>\n",
       "      <td>Alfredo Amezaga</td>\n",
       "      <td>2008</td>\n",
       "      <td>1.2</td>\n",
       "      <td>NaN</td>\n",
       "    </tr>\n",
       "    <tr>\n",
       "      <th>1169</th>\n",
       "      <td>2</td>\n",
       "      <td>Garret Anderson</td>\n",
       "      <td>2002</td>\n",
       "      <td>3.7</td>\n",
       "      <td>5.1</td>\n",
       "    </tr>\n",
       "    <tr>\n",
       "      <th>864</th>\n",
       "      <td>2</td>\n",
       "      <td>Garret Anderson</td>\n",
       "      <td>2003</td>\n",
       "      <td>5.1</td>\n",
       "      <td>0.8</td>\n",
       "    </tr>\n",
       "    <tr>\n",
       "      <th>2569</th>\n",
       "      <td>2</td>\n",
       "      <td>Garret Anderson</td>\n",
       "      <td>2004</td>\n",
       "      <td>0.8</td>\n",
       "      <td>-0.2</td>\n",
       "    </tr>\n",
       "    <tr>\n",
       "      <th>4187</th>\n",
       "      <td>2</td>\n",
       "      <td>Garret Anderson</td>\n",
       "      <td>2005</td>\n",
       "      <td>-0.2</td>\n",
       "      <td>0.1</td>\n",
       "    </tr>\n",
       "    <tr>\n",
       "      <th>3964</th>\n",
       "      <td>2</td>\n",
       "      <td>Garret Anderson</td>\n",
       "      <td>2006</td>\n",
       "      <td>0.1</td>\n",
       "      <td>1.4</td>\n",
       "    </tr>\n",
       "    <tr>\n",
       "      <th>1925</th>\n",
       "      <td>2</td>\n",
       "      <td>Garret Anderson</td>\n",
       "      <td>2007</td>\n",
       "      <td>1.4</td>\n",
       "      <td>1.4</td>\n",
       "    </tr>\n",
       "    <tr>\n",
       "      <th>3346</th>\n",
       "      <td>2</td>\n",
       "      <td>Garret Anderson</td>\n",
       "      <td>2008</td>\n",
       "      <td>1.4</td>\n",
       "      <td>-1.1</td>\n",
       "    </tr>\n",
       "    <tr>\n",
       "      <th>4937</th>\n",
       "      <td>2</td>\n",
       "      <td>Garret Anderson</td>\n",
       "      <td>2009</td>\n",
       "      <td>-1.1</td>\n",
       "      <td>NaN</td>\n",
       "    </tr>\n",
       "    <tr>\n",
       "      <th>2675</th>\n",
       "      <td>10</td>\n",
       "      <td>David Eckstein</td>\n",
       "      <td>2002</td>\n",
       "      <td>4.5</td>\n",
       "      <td>1.2</td>\n",
       "    </tr>\n",
       "    <tr>\n",
       "      <th>5564</th>\n",
       "      <td>10</td>\n",
       "      <td>David Eckstein</td>\n",
       "      <td>2003</td>\n",
       "      <td>1.2</td>\n",
       "      <td>1.9</td>\n",
       "    </tr>\n",
       "    <tr>\n",
       "      <th>5082</th>\n",
       "      <td>10</td>\n",
       "      <td>David Eckstein</td>\n",
       "      <td>2004</td>\n",
       "      <td>1.9</td>\n",
       "      <td>2.5</td>\n",
       "    </tr>\n",
       "    <tr>\n",
       "      <th>2565</th>\n",
       "      <td>10</td>\n",
       "      <td>David Eckstein</td>\n",
       "      <td>2005</td>\n",
       "      <td>2.5</td>\n",
       "      <td>1.5</td>\n",
       "    </tr>\n",
       "    <tr>\n",
       "      <th>4371</th>\n",
       "      <td>10</td>\n",
       "      <td>David Eckstein</td>\n",
       "      <td>2006</td>\n",
       "      <td>1.5</td>\n",
       "      <td>0.7</td>\n",
       "    </tr>\n",
       "    <tr>\n",
       "      <th>3102</th>\n",
       "      <td>10</td>\n",
       "      <td>David Eckstein</td>\n",
       "      <td>2007</td>\n",
       "      <td>0.7</td>\n",
       "      <td>-0.1</td>\n",
       "    </tr>\n",
       "    <tr>\n",
       "      <th>4345</th>\n",
       "      <td>10</td>\n",
       "      <td>David Eckstein</td>\n",
       "      <td>2008</td>\n",
       "      <td>-0.1</td>\n",
       "      <td>0.7</td>\n",
       "    </tr>\n",
       "    <tr>\n",
       "      <th>5521</th>\n",
       "      <td>10</td>\n",
       "      <td>David Eckstein</td>\n",
       "      <td>2009</td>\n",
       "      <td>0.7</td>\n",
       "      <td>1.5</td>\n",
       "    </tr>\n",
       "    <tr>\n",
       "      <th>5666</th>\n",
       "      <td>10</td>\n",
       "      <td>David Eckstein</td>\n",
       "      <td>2010</td>\n",
       "      <td>1.5</td>\n",
       "      <td>NaN</td>\n",
       "    </tr>\n",
       "  </tbody>\n",
       "</table>\n",
       "</div>"
      ],
      "text/plain": [
       "      IDfg             Name  Season  WAR  Next_WAR\n",
       "5562     1  Alfredo Amezaga    2006  1.1       2.0\n",
       "5006     1  Alfredo Amezaga    2007  2.0       1.2\n",
       "5252     1  Alfredo Amezaga    2008  1.2       NaN\n",
       "1169     2  Garret Anderson    2002  3.7       5.1\n",
       "864      2  Garret Anderson    2003  5.1       0.8\n",
       "2569     2  Garret Anderson    2004  0.8      -0.2\n",
       "4187     2  Garret Anderson    2005 -0.2       0.1\n",
       "3964     2  Garret Anderson    2006  0.1       1.4\n",
       "1925     2  Garret Anderson    2007  1.4       1.4\n",
       "3346     2  Garret Anderson    2008  1.4      -1.1\n",
       "4937     2  Garret Anderson    2009 -1.1       NaN\n",
       "2675    10   David Eckstein    2002  4.5       1.2\n",
       "5564    10   David Eckstein    2003  1.2       1.9\n",
       "5082    10   David Eckstein    2004  1.9       2.5\n",
       "2565    10   David Eckstein    2005  2.5       1.5\n",
       "4371    10   David Eckstein    2006  1.5       0.7\n",
       "3102    10   David Eckstein    2007  0.7      -0.1\n",
       "4345    10   David Eckstein    2008 -0.1       0.7\n",
       "5521    10   David Eckstein    2009  0.7       1.5\n",
       "5666    10   David Eckstein    2010  1.5       NaN"
      ]
     },
     "execution_count": 11,
     "metadata": {},
     "output_type": "execute_result"
    }
   ],
   "source": [
    "\n",
    "batstat[[\"IDfg\", \"Name\", \"Season\", \"WAR\", \"Next_WAR\"]].head(20)"
   ]
  },
  {
   "cell_type": "code",
   "execution_count": 12,
   "metadata": {
    "colab": {
     "base_uri": "https://localhost:8080/"
    },
    "id": "45LBDHgsJNJ3",
    "outputId": "7cc420ab-0ee0-4946-a55a-73fc8bf054b0"
   },
   "outputs": [
    {
     "data": {
      "text/plain": [
       "IDfg          int64\n",
       "Season        int64\n",
       "Name         object\n",
       "Team         object\n",
       "Age           int64\n",
       "             ...   \n",
       "Events        int64\n",
       "CStr%       float64\n",
       "CSW%        float64\n",
       "L-WAR       float64\n",
       "Next_WAR    float64\n",
       "Length: 133, dtype: object"
      ]
     },
     "execution_count": 12,
     "metadata": {},
     "output_type": "execute_result"
    }
   ],
   "source": [
    "batstat.dtypes"
   ]
  },
  {
   "cell_type": "code",
   "execution_count": 13,
   "metadata": {
    "colab": {
     "base_uri": "https://localhost:8080/"
    },
    "id": "9-bMMHa7JNJ3",
    "outputId": "4de0507c-c705-4573-c8a9-1b7deed914c6"
   },
   "outputs": [
    {
     "data": {
      "text/plain": [
       "Name       object\n",
       "Team       object\n",
       "Dol        object\n",
       "Age Rng    object\n",
       "dtype: object"
      ]
     },
     "execution_count": 13,
     "metadata": {},
     "output_type": "execute_result"
    }
   ],
   "source": [
    "batstat.dtypes[batstat.dtypes == \"object\"]"
   ]
  },
  {
   "cell_type": "code",
   "execution_count": 14,
   "metadata": {
    "colab": {
     "base_uri": "https://localhost:8080/"
    },
    "id": "3gSmjTXzJNJ3",
    "outputId": "710ee298-77e0-4902-a185-ca930f62c69e"
   },
   "outputs": [
    {
     "data": {
      "text/plain": [
       "5562      $5.5\n",
       "5006     $11.2\n",
       "5252      $7.2\n",
       "1169     $14.6\n",
       "864      $22.0\n",
       "         ...  \n",
       "6552    ($7.9)\n",
       "6620      $4.0\n",
       "4396     $29.3\n",
       "1107     $11.9\n",
       "2828     $16.1\n",
       "Name: Dol, Length: 7114, dtype: object"
      ]
     },
     "execution_count": 14,
     "metadata": {},
     "output_type": "execute_result"
    }
   ],
   "source": [
    "batstat[\"Dol\"]"
   ]
  },
  {
   "cell_type": "code",
   "execution_count": 15,
   "metadata": {
    "colab": {
     "base_uri": "https://localhost:8080/"
    },
    "id": "iNdtyajqJNJ3",
    "outputId": "50f1b6b4-7985-4031-f18f-6b1715fb5248"
   },
   "outputs": [
    {
     "data": {
      "text/plain": [
       "5562    28 - 28\n",
       "5006    29 - 29\n",
       "5252    30 - 30\n",
       "1169    30 - 30\n",
       "864     31 - 31\n",
       "         ...   \n",
       "6552    22 - 22\n",
       "6620    25 - 25\n",
       "4396    26 - 26\n",
       "1107    24 - 24\n",
       "2828    27 - 27\n",
       "Name: Age Rng, Length: 7114, dtype: object"
      ]
     },
     "execution_count": 15,
     "metadata": {},
     "output_type": "execute_result"
    }
   ],
   "source": [
    "batstat[\"Age Rng\"]"
   ]
  },
  {
   "cell_type": "code",
   "execution_count": 16,
   "metadata": {
    "id": "TvGTI6o5JNJ4"
   },
   "outputs": [],
   "source": [
    "batstat.drop(columns = [\"Dol\", \"Age Rng\"], inplace = True)"
   ]
  },
  {
   "cell_type": "code",
   "execution_count": 17,
   "metadata": {
    "colab": {
     "base_uri": "https://localhost:8080/"
    },
    "id": "Nch5Z2eSJNJ4",
    "outputId": "e47d5cec-6c07-4f90-bc3d-10257f1198a9"
   },
   "outputs": [
    {
     "data": {
      "text/plain": [
       "Name    object\n",
       "Team    object\n",
       "dtype: object"
      ]
     },
     "execution_count": 17,
     "metadata": {},
     "output_type": "execute_result"
    }
   ],
   "source": [
    "batstat.dtypes[batstat.dtypes == \"object\"]"
   ]
  },
  {
   "cell_type": "code",
   "execution_count": 18,
   "metadata": {
    "id": "ZCXx4MC0JNJ4"
   },
   "outputs": [],
   "source": [
    "batstat[\"Team Code\"] = batstat['Team'].astype(\"category\").cat.codes"
   ]
  },
  {
   "cell_type": "code",
   "execution_count": 19,
   "metadata": {
    "colab": {
     "base_uri": "https://localhost:8080/",
     "height": 394
    },
    "id": "OD0ZlYywJNJ4",
    "outputId": "ec281335-9087-4b52-cf76-50b2d13d41af"
   },
   "outputs": [
    {
     "data": {
      "text/html": [
       "<div>\n",
       "<style scoped>\n",
       "    .dataframe tbody tr th:only-of-type {\n",
       "        vertical-align: middle;\n",
       "    }\n",
       "\n",
       "    .dataframe tbody tr th {\n",
       "        vertical-align: top;\n",
       "    }\n",
       "\n",
       "    .dataframe thead th {\n",
       "        text-align: right;\n",
       "    }\n",
       "</style>\n",
       "<table border=\"1\" class=\"dataframe\">\n",
       "  <thead>\n",
       "    <tr style=\"text-align: right;\">\n",
       "      <th></th>\n",
       "      <th>Name</th>\n",
       "      <th>Season</th>\n",
       "      <th>Team</th>\n",
       "      <th>Team Code</th>\n",
       "      <th>WAR</th>\n",
       "      <th>Next_WAR</th>\n",
       "    </tr>\n",
       "  </thead>\n",
       "  <tbody>\n",
       "    <tr>\n",
       "      <th>4074</th>\n",
       "      <td>Manny Machado</td>\n",
       "      <td>2012</td>\n",
       "      <td>BAL</td>\n",
       "      <td>4</td>\n",
       "      <td>1.3</td>\n",
       "      <td>5.0</td>\n",
       "    </tr>\n",
       "    <tr>\n",
       "      <th>3475</th>\n",
       "      <td>Manny Machado</td>\n",
       "      <td>2013</td>\n",
       "      <td>BAL</td>\n",
       "      <td>4</td>\n",
       "      <td>5.0</td>\n",
       "      <td>2.3</td>\n",
       "    </tr>\n",
       "    <tr>\n",
       "      <th>3005</th>\n",
       "      <td>Manny Machado</td>\n",
       "      <td>2014</td>\n",
       "      <td>BAL</td>\n",
       "      <td>4</td>\n",
       "      <td>2.3</td>\n",
       "      <td>6.6</td>\n",
       "    </tr>\n",
       "    <tr>\n",
       "      <th>905</th>\n",
       "      <td>Manny Machado</td>\n",
       "      <td>2015</td>\n",
       "      <td>BAL</td>\n",
       "      <td>4</td>\n",
       "      <td>6.6</td>\n",
       "      <td>6.2</td>\n",
       "    </tr>\n",
       "    <tr>\n",
       "      <th>1063</th>\n",
       "      <td>Manny Machado</td>\n",
       "      <td>2016</td>\n",
       "      <td>BAL</td>\n",
       "      <td>4</td>\n",
       "      <td>6.2</td>\n",
       "      <td>1.7</td>\n",
       "    </tr>\n",
       "    <tr>\n",
       "      <th>3311</th>\n",
       "      <td>Manny Machado</td>\n",
       "      <td>2017</td>\n",
       "      <td>BAL</td>\n",
       "      <td>4</td>\n",
       "      <td>1.7</td>\n",
       "      <td>7.0</td>\n",
       "    </tr>\n",
       "    <tr>\n",
       "      <th>707</th>\n",
       "      <td>Manny Machado</td>\n",
       "      <td>2018</td>\n",
       "      <td>- - -</td>\n",
       "      <td>0</td>\n",
       "      <td>7.0</td>\n",
       "      <td>2.2</td>\n",
       "    </tr>\n",
       "    <tr>\n",
       "      <th>2775</th>\n",
       "      <td>Manny Machado</td>\n",
       "      <td>2019</td>\n",
       "      <td>SDP</td>\n",
       "      <td>26</td>\n",
       "      <td>2.2</td>\n",
       "      <td>2.6</td>\n",
       "    </tr>\n",
       "    <tr>\n",
       "      <th>378</th>\n",
       "      <td>Manny Machado</td>\n",
       "      <td>2020</td>\n",
       "      <td>SDP</td>\n",
       "      <td>26</td>\n",
       "      <td>2.6</td>\n",
       "      <td>4.3</td>\n",
       "    </tr>\n",
       "    <tr>\n",
       "      <th>1802</th>\n",
       "      <td>Manny Machado</td>\n",
       "      <td>2021</td>\n",
       "      <td>SDP</td>\n",
       "      <td>26</td>\n",
       "      <td>4.3</td>\n",
       "      <td>7.4</td>\n",
       "    </tr>\n",
       "    <tr>\n",
       "      <th>568</th>\n",
       "      <td>Manny Machado</td>\n",
       "      <td>2022</td>\n",
       "      <td>SDP</td>\n",
       "      <td>26</td>\n",
       "      <td>7.4</td>\n",
       "      <td>NaN</td>\n",
       "    </tr>\n",
       "  </tbody>\n",
       "</table>\n",
       "</div>"
      ],
      "text/plain": [
       "               Name  Season   Team  Team Code  WAR  Next_WAR\n",
       "4074  Manny Machado    2012    BAL          4  1.3       5.0\n",
       "3475  Manny Machado    2013    BAL          4  5.0       2.3\n",
       "3005  Manny Machado    2014    BAL          4  2.3       6.6\n",
       "905   Manny Machado    2015    BAL          4  6.6       6.2\n",
       "1063  Manny Machado    2016    BAL          4  6.2       1.7\n",
       "3311  Manny Machado    2017    BAL          4  1.7       7.0\n",
       "707   Manny Machado    2018  - - -          0  7.0       2.2\n",
       "2775  Manny Machado    2019    SDP         26  2.2       2.6\n",
       "378   Manny Machado    2020    SDP         26  2.6       4.3\n",
       "1802  Manny Machado    2021    SDP         26  4.3       7.4\n",
       "568   Manny Machado    2022    SDP         26  7.4       NaN"
      ]
     },
     "execution_count": 19,
     "metadata": {},
     "output_type": "execute_result"
    }
   ],
   "source": [
    "batstat[batstat[\"Name\"] == \"Manny Machado\"][['Name', \"Season\", \"Team\", \"Team Code\", \"WAR\", \"Next_WAR\"]]"
   ]
  },
  {
   "cell_type": "code",
   "execution_count": 20,
   "metadata": {
    "id": "z_v6rqenJNJ5"
   },
   "outputs": [],
   "source": [
    "batstat.drop(columns = \"Team\", inplace=True)"
   ]
  },
  {
   "cell_type": "code",
   "execution_count": 21,
   "metadata": {
    "id": "2wPwfYg4JNJ5"
   },
   "outputs": [],
   "source": [
    "batstat2 = batstat.copy()\n",
    "batstat = batstat.dropna().copy()"
   ]
  },
  {
   "cell_type": "markdown",
   "metadata": {
    "id": "6FK00dFiJNJ6"
   },
   "source": [
    "### Scale Data"
   ]
  },
  {
   "cell_type": "code",
   "execution_count": 22,
   "metadata": {
    "id": "XK_-79JdJNJ6"
   },
   "outputs": [],
   "source": [
    "removed_columns = [\"Next_WAR\", \"Name\", \"Team\", \"IDgf\", \"Season\"]\n",
    "selected_columns = batstat.columns[~batstat.columns.isin(removed_columns)]"
   ]
  },
  {
   "cell_type": "code",
   "execution_count": 23,
   "metadata": {
    "id": "GFw3o9I0JNJ6"
   },
   "outputs": [],
   "source": [
    "from sklearn.preprocessing import StandardScaler\n",
    "\n",
    "sc= StandardScaler()\n",
    "\n",
    "batstat.loc[:, selected_columns] = sc.fit_transform(batstat[selected_columns])\n",
    "batstat.loc[:, selected_columns] = sc.transform(batstat[selected_columns])"
   ]
  },
  {
   "cell_type": "markdown",
   "metadata": {},
   "source": [
    "### Identify Predictors"
   ]
  },
  {
   "cell_type": "code",
   "execution_count": 24,
   "metadata": {
    "id": "LHzr26L6JNJ7"
   },
   "outputs": [],
   "source": [
    "from sklearn.linear_model import LinearRegression\n",
    "#from sklearn.feature_selection import SequentialFeatureSelector\n",
    "from sklearn.model_selection import TimeSeriesSplit"
   ]
  },
  {
   "cell_type": "code",
   "execution_count": 25,
   "metadata": {
    "id": "stesIiFJJNJ7"
   },
   "outputs": [],
   "source": [
    "#lr = LinearRegression()\n",
    "\n",
    "#split = TimeSeriesSplit(n_splits=3) \n",
    "\n",
    "#sfs = SequentialFeatureSelector(lr, n_features_to_select= 15, direction=\"forward\", cv=split)"
   ]
  },
  {
   "cell_type": "code",
   "execution_count": 26,
   "metadata": {
    "colab": {
     "base_uri": "https://localhost:8080/"
    },
    "id": "F272_s2AKYcH",
    "outputId": "61bca6f5-89b7-4cc0-cb18-645c84036945"
   },
   "outputs": [],
   "source": [
    "#sfs.fit(batstat[selected_columns], batstat[\"Next_WAR\"])"
   ]
  },
  {
   "cell_type": "code",
   "execution_count": 27,
   "metadata": {
    "colab": {
     "base_uri": "https://localhost:8080/"
    },
    "id": "D77h0YXuMQQv",
    "outputId": "12b0ecb8-8624-4a3b-8b6b-17b3910c03b0"
   },
   "outputs": [],
   "source": [
    "#predictors = list(selected_columns[sfs.get_support()])\n",
    "#predictors"
   ]
  },
  {
   "cell_type": "code",
   "execution_count": 28,
   "metadata": {
    "id": "zYbU1heoM08v"
   },
   "outputs": [],
   "source": [
    "predictors = ['Age',\n",
    " 'IBB',\n",
    " 'SO',\n",
    " 'SB',\n",
    " 'BU',\n",
    " 'BB%',\n",
    " 'ISO',\n",
    " 'BABIP',\n",
    " 'WAR',\n",
    " 'Spd',\n",
    " 'PH',\n",
    " 'CB%',\n",
    " 'Pull%',\n",
    " 'Soft%+',\n",
    " 'Hard%+']"
   ]
  },
  {
   "cell_type": "markdown",
   "metadata": {
    "id": "ZRVSkADqJNJ6"
   },
   "source": [
    "### Train-Test Split"
   ]
  },
  {
   "cell_type": "code",
   "execution_count": 29,
   "metadata": {},
   "outputs": [
    {
     "data": {
      "text/html": [
       "<div>\n",
       "<style scoped>\n",
       "    .dataframe tbody tr th:only-of-type {\n",
       "        vertical-align: middle;\n",
       "    }\n",
       "\n",
       "    .dataframe tbody tr th {\n",
       "        vertical-align: top;\n",
       "    }\n",
       "\n",
       "    .dataframe thead th {\n",
       "        text-align: right;\n",
       "    }\n",
       "</style>\n",
       "<table border=\"1\" class=\"dataframe\">\n",
       "  <thead>\n",
       "    <tr style=\"text-align: right;\">\n",
       "      <th></th>\n",
       "      <th>IDfg</th>\n",
       "      <th>Season</th>\n",
       "      <th>Name</th>\n",
       "      <th>Team</th>\n",
       "      <th>Age</th>\n",
       "      <th>G</th>\n",
       "      <th>AB</th>\n",
       "      <th>PA</th>\n",
       "      <th>H</th>\n",
       "      <th>1B</th>\n",
       "      <th>...</th>\n",
       "      <th>Cent%+</th>\n",
       "      <th>Oppo%+</th>\n",
       "      <th>Soft%+</th>\n",
       "      <th>Med%+</th>\n",
       "      <th>Hard%+</th>\n",
       "      <th>Events</th>\n",
       "      <th>CStr%</th>\n",
       "      <th>CSW%</th>\n",
       "      <th>L-WAR</th>\n",
       "      <th>Next_WAR</th>\n",
       "    </tr>\n",
       "  </thead>\n",
       "  <tbody>\n",
       "    <tr>\n",
       "      <th>5562</th>\n",
       "      <td>1</td>\n",
       "      <td>2006</td>\n",
       "      <td>Alfredo Amezaga</td>\n",
       "      <td>FLA</td>\n",
       "      <td>28</td>\n",
       "      <td>132</td>\n",
       "      <td>334</td>\n",
       "      <td>378</td>\n",
       "      <td>87</td>\n",
       "      <td>72</td>\n",
       "      <td>...</td>\n",
       "      <td>107</td>\n",
       "      <td>113</td>\n",
       "      <td>143</td>\n",
       "      <td>109</td>\n",
       "      <td>63</td>\n",
       "      <td>0</td>\n",
       "      <td>0.188</td>\n",
       "      <td>0.256</td>\n",
       "      <td>1.1</td>\n",
       "      <td>2.0</td>\n",
       "    </tr>\n",
       "    <tr>\n",
       "      <th>5006</th>\n",
       "      <td>1</td>\n",
       "      <td>2007</td>\n",
       "      <td>Alfredo Amezaga</td>\n",
       "      <td>FLA</td>\n",
       "      <td>29</td>\n",
       "      <td>133</td>\n",
       "      <td>400</td>\n",
       "      <td>448</td>\n",
       "      <td>105</td>\n",
       "      <td>80</td>\n",
       "      <td>...</td>\n",
       "      <td>101</td>\n",
       "      <td>112</td>\n",
       "      <td>109</td>\n",
       "      <td>113</td>\n",
       "      <td>75</td>\n",
       "      <td>0</td>\n",
       "      <td>0.175</td>\n",
       "      <td>0.227</td>\n",
       "      <td>2.0</td>\n",
       "      <td>1.2</td>\n",
       "    </tr>\n",
       "    <tr>\n",
       "      <th>1169</th>\n",
       "      <td>2</td>\n",
       "      <td>2002</td>\n",
       "      <td>Garret Anderson</td>\n",
       "      <td>ANA</td>\n",
       "      <td>30</td>\n",
       "      <td>158</td>\n",
       "      <td>638</td>\n",
       "      <td>678</td>\n",
       "      <td>195</td>\n",
       "      <td>107</td>\n",
       "      <td>...</td>\n",
       "      <td>91</td>\n",
       "      <td>80</td>\n",
       "      <td>65</td>\n",
       "      <td>97</td>\n",
       "      <td>129</td>\n",
       "      <td>0</td>\n",
       "      <td>0.137</td>\n",
       "      <td>0.232</td>\n",
       "      <td>3.7</td>\n",
       "      <td>5.1</td>\n",
       "    </tr>\n",
       "  </tbody>\n",
       "</table>\n",
       "<p>3 rows × 133 columns</p>\n",
       "</div>"
      ],
      "text/plain": [
       "      IDfg  Season             Name Team  Age    G   AB   PA    H   1B  ...  \\\n",
       "5562     1    2006  Alfredo Amezaga  FLA   28  132  334  378   87   72  ...   \n",
       "5006     1    2007  Alfredo Amezaga  FLA   29  133  400  448  105   80  ...   \n",
       "1169     2    2002  Garret Anderson  ANA   30  158  638  678  195  107  ...   \n",
       "\n",
       "      Cent%+  Oppo%+  Soft%+  Med%+  Hard%+  Events  CStr%   CSW%  L-WAR  \\\n",
       "5562     107     113     143    109      63       0  0.188  0.256    1.1   \n",
       "5006     101     112     109    113      75       0  0.175  0.227    2.0   \n",
       "1169      91      80      65     97     129       0  0.137  0.232    3.7   \n",
       "\n",
       "      Next_WAR  \n",
       "5562       2.0  \n",
       "5006       1.2  \n",
       "1169       5.1  \n",
       "\n",
       "[3 rows x 133 columns]"
      ]
     },
     "execution_count": 29,
     "metadata": {},
     "output_type": "execute_result"
    }
   ],
   "source": [
    "batstat = batting_stats(START, END, qual=200)\n",
    "\n",
    "null_values = batstat.isnull().sum()\n",
    "batstat_nonnulls = batstat.columns[null_values == 0]\n",
    "batstat = batstat[batstat_nonnulls]\n",
    "\n",
    "batstat = batstat.groupby(\"IDfg\", group_keys=False).apply(next_season)\n",
    "\n",
    "batstat2 = batstat.copy()\n",
    "batstat = batstat.dropna().copy()\n",
    "batstat.head(3)"
   ]
  },
  {
   "cell_type": "code",
   "execution_count": 30,
   "metadata": {
    "id": "QrijSgQbJNJ6"
   },
   "outputs": [],
   "source": [
    "X = batstat[predictors]\n",
    "y = batstat[\"Next_WAR\"]"
   ]
  },
  {
   "cell_type": "code",
   "execution_count": 31,
   "metadata": {
    "id": "9ekjfaNTJNJ7"
   },
   "outputs": [],
   "source": [
    "from sklearn.model_selection import train_test_split\n",
    "X_train, X_test, y_train, y_test = train_test_split(X, y, random_state = 100)"
   ]
  },
  {
   "cell_type": "code",
   "execution_count": 32,
   "metadata": {
    "colab": {
     "base_uri": "https://localhost:8080/"
    },
    "id": "FzotHe99JNJ7",
    "outputId": "f90ac9ac-918b-4ead-807d-2878e5c5701c"
   },
   "outputs": [
    {
     "name": "stdout",
     "output_type": "stream",
     "text": [
      "\n",
      "X Train Shape (4181, 15)\n",
      "X Test Shape (1394, 15)\n",
      "\n",
      "y Train Shape (4181,)\n",
      "y Test Shape (1394,)\n",
      "\n"
     ]
    }
   ],
   "source": [
    "print(\n",
    "f\"\"\"\n",
    "X Train Shape {X_train.shape}\n",
    "X Test Shape {X_test.shape}\n",
    "\n",
    "y Train Shape {y_train.shape}\n",
    "y Test Shape {y_test.shape}\n",
    "\"\"\"\n",
    ")"
   ]
  },
  {
   "cell_type": "markdown",
   "metadata": {},
   "source": [
    "### Build and Evaluate a First Simple Model"
   ]
  },
  {
   "cell_type": "code",
   "execution_count": 33,
   "metadata": {},
   "outputs": [],
   "source": [
    "baseline_model = LinearRegression()"
   ]
  },
  {
   "cell_type": "code",
   "execution_count": 34,
   "metadata": {},
   "outputs": [
    {
     "data": {
      "text/plain": [
       "LinearRegression()"
      ]
     },
     "execution_count": 34,
     "metadata": {},
     "output_type": "execute_result"
    }
   ],
   "source": [
    "baseline_model.fit(X_train, y_train)"
   ]
  },
  {
   "cell_type": "code",
   "execution_count": 35,
   "metadata": {},
   "outputs": [
    {
     "data": {
      "text/plain": [
       "1.6489071991810345"
      ]
     },
     "execution_count": 35,
     "metadata": {},
     "output_type": "execute_result"
    }
   ],
   "source": [
    "# Import the relevant function\n",
    "from sklearn.metrics import mean_squared_error\n",
    "\n",
    "# Generate predictions using baseline_model and X_train\n",
    "y_pred_baseline = baseline_model.predict(X_train)\n",
    "\n",
    "# Evaluate using mean_squared_error with squared=False\n",
    "baseline_rmse = mean_squared_error(y_train, y_pred_baseline, squared=False)\n",
    "baseline_rmse"
   ]
  },
  {
   "cell_type": "code",
   "execution_count": 36,
   "metadata": {},
   "outputs": [
    {
     "data": {
      "text/plain": [
       "1.658667284536147"
      ]
     },
     "execution_count": 36,
     "metadata": {},
     "output_type": "execute_result"
    }
   ],
   "source": [
    "# Import the relevant function\n",
    "from sklearn.model_selection import cross_val_score\n",
    "\n",
    "# Get the cross validated scores for our baseline model\n",
    "baseline_cv = cross_val_score(baseline_model, X_train, y_train, scoring=\"neg_root_mean_squared_error\")\n",
    "\n",
    "# Display the average of the cross-validated scores\n",
    "baseline_cv_rmse = -(baseline_cv.mean())\n",
    "baseline_cv_rmse"
   ]
  },
  {
   "cell_type": "markdown",
   "metadata": {},
   "source": [
    "### Use Polynomial Features to Reduce Underfitting"
   ]
  },
  {
   "cell_type": "code",
   "execution_count": 37,
   "metadata": {},
   "outputs": [],
   "source": [
    "# Import the relevant class\n",
    "from sklearn.preprocessing import PolynomialFeatures\n",
    "\n",
    "# Instantiate polynomial features transformer\n",
    "poly = PolynomialFeatures()\n",
    "\n",
    "# Fit transformer on entire X_train\n",
    "poly.fit(X_train)\n",
    "\n",
    "# Create transformed data matrix by transforming X_train\n",
    "X_train_poly = poly.transform(X_train)"
   ]
  },
  {
   "cell_type": "code",
   "execution_count": 38,
   "metadata": {},
   "outputs": [
    {
     "data": {
      "text/plain": [
       "1.6092359897852409"
      ]
     },
     "execution_count": 38,
     "metadata": {},
     "output_type": "execute_result"
    }
   ],
   "source": [
    "# Fit baseline_model\n",
    "baseline_model.fit(X_train_poly, y_train)\n",
    "\n",
    "# Make predictions\n",
    "y_pred_poly = baseline_model.predict(X_train_poly)\n",
    "\n",
    "# Find the RMSE on the full y_pred_poly and y_train\n",
    "poly_rmse = mean_squared_error(y_train, y_pred_poly, squared=False)\n",
    "poly_rmse"
   ]
  },
  {
   "cell_type": "code",
   "execution_count": 39,
   "metadata": {},
   "outputs": [
    {
     "data": {
      "text/plain": [
       "1.6943929205403012"
      ]
     },
     "execution_count": 39,
     "metadata": {},
     "output_type": "execute_result"
    }
   ],
   "source": [
    "# Get the cross validated scores for our transformed features\n",
    "poly_cv = cross_val_score(baseline_model, X_train_poly, y_train, scoring=\"neg_root_mean_squared_error\")\n",
    "\n",
    "# Display the average of the cross-validated scores\n",
    "poly_cv_rmse = -(poly_cv.mean())\n",
    "poly_cv_rmse"
   ]
  },
  {
   "cell_type": "code",
   "execution_count": 40,
   "metadata": {},
   "outputs": [
    {
     "name": "stdout",
     "output_type": "stream",
     "text": [
      "Baseline Model\n",
      "Train RMSE: 1.6489071991810345\n",
      "Validation RMSE: 1.658667284536147\n",
      "\n",
      "Model with Polynomial Transformation\n",
      "Train RMSE: 1.6092359897852409\n",
      "Validation RMSE: 1.6943929205403012\n"
     ]
    }
   ],
   "source": [
    "print(\"Baseline Model\")\n",
    "print(\"Train RMSE:\", baseline_rmse)\n",
    "print(\"Validation RMSE:\", baseline_cv_rmse)\n",
    "print()\n",
    "print(\"Model with Polynomial Transformation\")\n",
    "print(\"Train RMSE:\", poly_rmse)\n",
    "print(\"Validation RMSE:\", poly_cv_rmse)"
   ]
  },
  {
   "cell_type": "code",
   "execution_count": 41,
   "metadata": {},
   "outputs": [
    {
     "data": {
      "image/png": "[encoded data removed]",
      "text/plain": [
       "<Figure size 936x360 with 2 Axes>"
      ]
     },
     "metadata": {
      "needs_background": "light"
     },
     "output_type": "display_data"
    }
   ],
   "source": [
    "# Create lists of RMSE values\n",
    "train_rmse = []\n",
    "val_rmse = []\n",
    "\n",
    "# Create list of degrees we want to consider\n",
    "degrees = [*range(1,4)]\n",
    "\n",
    "for degree in degrees:\n",
    "    # Create transformer of relevant degree and transform X_train\n",
    "    poly = PolynomialFeatures(degree)\n",
    "    X_train_poly = poly.fit_transform(X_train)\n",
    "    baseline_model.fit(X_train_poly, y_train)\n",
    "    \n",
    "    # RMSE for training data\n",
    "    y_pred_poly = baseline_model.predict(X_train_poly)\n",
    "    train_rmse.append(mean_squared_error(y_train, y_pred_poly, squared=False))\n",
    "    \n",
    "    # RMSE for validation data\n",
    "    poly_cv = cross_val_score(baseline_model, X_train_poly, y_train, scoring=\"neg_root_mean_squared_error\")\n",
    "    val_rmse.append(-(poly_cv.mean()))\n",
    "\n",
    "# Set up plot\n",
    "import matplotlib.pyplot as plt\n",
    "fig, (ax1, ax2) = plt.subplots(ncols=2, figsize=(13,5))\n",
    "\n",
    "# Plot RMSE for training data\n",
    "ax1.plot(degrees, train_rmse)\n",
    "ax1.set_title(\"Training Data\")\n",
    "\n",
    "# Plot RMSE for validation data\n",
    "ax2.plot(degrees, val_rmse, color=\"orange\")\n",
    "ax2.set_title(\"Validation Data\")\n",
    "\n",
    "# Shared attributes for plots\n",
    "for ax in (ax1, ax2):\n",
    "    ax.set_xticks(degrees)\n",
    "    ax.set_xlabel(\"Polynomial Degree\")\n",
    "    ax.set_ylabel(\"RMSE\")"
   ]
  },
  {
   "cell_type": "code",
   "execution_count": 42,
   "metadata": {},
   "outputs": [],
   "source": [
    "# Create transformer of relevant degree and transform X_train\n",
    "poly = PolynomialFeatures(1)\n",
    "X_train_poly = poly.fit_transform(X_train)\n",
    "baseline_model.fit(X_train_poly, y_train)\n",
    "\n",
    "# RMSE for training data\n",
    "y_pred_poly = baseline_model.predict(X_train_poly)\n",
    "final_poly_rmse = mean_squared_error(y_train, y_pred_poly, squared=False)\n",
    "\n",
    "# RMSE for validation data\n",
    "poly_cv = cross_val_score(baseline_model, X_train_poly, y_train, scoring=\"neg_root_mean_squared_error\")\n",
    "final_poly_cv_rmse = -(poly_cv.mean())"
   ]
  },
  {
   "cell_type": "code",
   "execution_count": 43,
   "metadata": {},
   "outputs": [
    {
     "name": "stdout",
     "output_type": "stream",
     "text": [
      "Baseline Model\n",
      "Train RMSE: 1.6489071991810345\n",
      "Validation RMSE: 1.658667284536147\n",
      "\n",
      "Model with Polynomial Transformation (Degree 1)\n",
      "Train RMSE: 1.6489071991810345\n",
      "Validation RMSE: 1.658667284536147\n"
     ]
    }
   ],
   "source": [
    "print(\"Baseline Model\")\n",
    "print(\"Train RMSE:\", baseline_rmse)\n",
    "print(\"Validation RMSE:\", baseline_cv_rmse)\n",
    "print()\n",
    "print(\"Model with Polynomial Transformation (Degree 1)\")\n",
    "print(\"Train RMSE:\", final_poly_rmse)\n",
    "print(\"Validation RMSE:\", final_poly_cv_rmse)"
   ]
  },
  {
   "cell_type": "markdown",
   "metadata": {},
   "source": [
    "### Use Regularization to Reduce Overfitting"
   ]
  },
  {
   "cell_type": "code",
   "execution_count": 44,
   "metadata": {},
   "outputs": [],
   "source": [
    "# Import the relevant class\n",
    "from sklearn.linear_model import Ridge\n",
    "from sklearn.preprocessing import StandardScaler\n",
    "\n",
    "# Instantiate the scaler\n",
    "scaler = StandardScaler()\n",
    "\n",
    "# Fit the scaler on X_train_poly\n",
    "scaler.fit(X_train_poly)\n",
    "\n",
    "# Transform the data and create a new matrix\n",
    "X_train_scaled = scaler.transform(X_train_poly)"
   ]
  },
  {
   "cell_type": "code",
   "execution_count": 45,
   "metadata": {},
   "outputs": [
    {
     "data": {
      "text/plain": [
       "Ridge(random_state=100)"
      ]
     },
     "execution_count": 45,
     "metadata": {},
     "output_type": "execute_result"
    }
   ],
   "source": [
    "from sklearn.linear_model import Ridge\n",
    "\n",
    "# Instantiate the model with random_state=100\n",
    "ridge_model = Ridge(random_state = 100)\n",
    "\n",
    "# Fit the model\n",
    "ridge_model.fit(X_train_scaled, y_train)"
   ]
  },
  {
   "cell_type": "code",
   "execution_count": 46,
   "metadata": {},
   "outputs": [
    {
     "name": "stdout",
     "output_type": "stream",
     "text": [
      "Train RMSE: 1.6489072606577444\n",
      "Validation RMSE: 1.6586589681361876\n"
     ]
    }
   ],
   "source": [
    "y_pred_ridge = ridge_model.predict(X_train_scaled)\n",
    "ridge_rmse = mean_squared_error(y_train, y_pred_ridge, squared=False)\n",
    "\n",
    "# RMSE for validation data\n",
    "ridge_cv = cross_val_score(ridge_model, X_train_scaled, y_train, scoring=\"neg_root_mean_squared_error\")\n",
    "ridge_cv_rmse = -(ridge_cv.mean())\n",
    "\n",
    "print(\"Train RMSE:\", ridge_rmse)\n",
    "print(\"Validation RMSE:\", ridge_cv_rmse)"
   ]
  },
  {
   "cell_type": "code",
   "execution_count": 47,
   "metadata": {},
   "outputs": [
    {
     "name": "stdout",
     "output_type": "stream",
     "text": [
      "Baseline Model\n",
      "Train RMSE: 1.6489071991810345\n",
      "Validation RMSE: 1.658667284536147\n",
      "\n",
      "Model with Polynomial Transformation (Degree 1)\n",
      "Train RMSE: 1.6489071991810345\n",
      "Validation RMSE: 1.658667284536147\n",
      "\n",
      "Model with Polynomial Transformation + Regularization\n",
      "Train RMSE: 1.6489072606577444\n",
      "Validation RMSE: 1.6586589681361876\n"
     ]
    }
   ],
   "source": [
    "print(\"Baseline Model\")\n",
    "print(\"Train RMSE:\", baseline_rmse)\n",
    "print(\"Validation RMSE:\", baseline_cv_rmse)\n",
    "print()\n",
    "print(\"Model with Polynomial Transformation (Degree 1)\")\n",
    "print(\"Train RMSE:\", final_poly_rmse)\n",
    "print(\"Validation RMSE:\", final_poly_cv_rmse)\n",
    "print()\n",
    "print(\"Model with Polynomial Transformation + Regularization\")\n",
    "print(\"Train RMSE:\", ridge_rmse)\n",
    "print(\"Validation RMSE:\", ridge_cv_rmse)"
   ]
  },
  {
   "cell_type": "code",
   "execution_count": 48,
   "metadata": {},
   "outputs": [
    {
     "data": {
      "image/png": "[encoded data removed]",
      "text/plain": [
       "<Figure size 432x432 with 1 Axes>"
      ]
     },
     "metadata": {
      "needs_background": "light"
     },
     "output_type": "display_data"
    }
   ],
   "source": [
    "train_rmse = []\n",
    "val_rmse = []\n",
    "\n",
    "# Create list of alphas we want to consider\n",
    "alphas = [1, 10, 25, 50, 75, 100, 125]#, 250, 500, 1000, 1500, 2000, 3000, 4000]\n",
    "\n",
    "for alpha in alphas:\n",
    "    # Fit a model with a given regularization penalty\n",
    "    model = Ridge(random_state=42, alpha=alpha)\n",
    "    model.fit(X_train_scaled, y_train)\n",
    "    \n",
    "    # RMSE for training data\n",
    "    y_pred_ridge = model.predict(X_train_scaled)\n",
    "    train_rmse.append(mean_squared_error(y_train, y_pred_ridge, squared=False))\n",
    "    \n",
    "    # RMSE for validation data\n",
    "    ridge_cv = cross_val_score(model, X_train_scaled, y_train, scoring=\"neg_root_mean_squared_error\")\n",
    "    val_rmse.append(-(ridge_cv.mean()))\n",
    "\n",
    "# Plot train vs. validation RMSE\n",
    "fig, ax = plt.subplots(figsize=(6,6))\n",
    "ax.plot(alphas, train_rmse, label=\"Training Data\")\n",
    "ax.plot(alphas, val_rmse, label=\"Validation Data\")\n",
    "ax.set_xlabel(\"Alpha (Regularization Penalty)\")\n",
    "ax.set_ylabel(\"RMSE\")\n",
    "ax.legend();"
   ]
  },
  {
   "cell_type": "code",
   "execution_count": 49,
   "metadata": {},
   "outputs": [
    {
     "name": "stdout",
     "output_type": "stream",
     "text": [
      "Lowest RMSE: 1.6584822220789632\n",
      "Best alpha: 50\n"
     ]
    }
   ],
   "source": [
    "lowest_rmse = min(val_rmse)\n",
    "print(\"Lowest RMSE:\", lowest_rmse)\n",
    "\n",
    "best_alpha = alphas[val_rmse.index(lowest_rmse)]\n",
    "print(\"Best alpha:\", best_alpha)"
   ]
  },
  {
   "cell_type": "code",
   "execution_count": 50,
   "metadata": {},
   "outputs": [],
   "source": [
    "final_model = Ridge(random_state=100, alpha=best_alpha)\n",
    "final_model.fit(X_train_scaled, y_train)\n",
    "\n",
    "# RMSE for training data\n",
    "y_pred_final = final_model.predict(X_train_scaled)\n",
    "final_rmse = mean_squared_error(y_train, y_pred_final, squared=False)\n",
    "\n",
    "# RMSE for validation data\n",
    "final_cv = cross_val_score(final_model, X_train_scaled, y_train, scoring=\"neg_root_mean_squared_error\")\n",
    "final_cv_rmse = -(final_cv.mean())"
   ]
  },
  {
   "cell_type": "code",
   "execution_count": 51,
   "metadata": {},
   "outputs": [
    {
     "name": "stdout",
     "output_type": "stream",
     "text": [
      "Baseline Model\n",
      "Train RMSE: 1.6489071991810345\n",
      "Validation RMSE: 1.658667284536147\n",
      "\n",
      "Model with Polynomial Transformation (Degree 1)\n",
      "Train RMSE: 1.6489071991810345\n",
      "Validation RMSE: 1.658667284536147\n",
      "\n",
      "Final Model with Polynomial Transformation + Regularization\n",
      "Train RMSE: 1.6490463746790212\n",
      "Validation RMSE: 1.6584822220789632\n"
     ]
    }
   ],
   "source": [
    "print(\"Baseline Model\")\n",
    "print(\"Train RMSE:\", baseline_rmse)\n",
    "print(\"Validation RMSE:\", baseline_cv_rmse)\n",
    "print()\n",
    "print(\"Model with Polynomial Transformation (Degree 1)\")\n",
    "print(\"Train RMSE:\", final_poly_rmse)\n",
    "print(\"Validation RMSE:\", final_poly_cv_rmse)\n",
    "print()\n",
    "print(\"Final Model with Polynomial Transformation + Regularization\")\n",
    "print(\"Train RMSE:\", final_rmse)\n",
    "print(\"Validation RMSE:\", final_cv_rmse)"
   ]
  },
  {
   "cell_type": "markdown",
   "metadata": {},
   "source": [
    "### Evaluate a Final Model on the Test Set"
   ]
  },
  {
   "cell_type": "code",
   "execution_count": 58,
   "metadata": {},
   "outputs": [],
   "source": [
    "final_model = Ridge(alpha= best_alpha, random_state= 100)"
   ]
  },
  {
   "cell_type": "code",
   "execution_count": 59,
   "metadata": {},
   "outputs": [
    {
     "data": {
      "text/plain": [
       "Ridge(alpha=50, random_state=100)"
      ]
     },
     "execution_count": 59,
     "metadata": {},
     "output_type": "execute_result"
    }
   ],
   "source": [
    "final_model.fit(X_train_scaled, y_train)"
   ]
  },
  {
   "cell_type": "code",
   "execution_count": 60,
   "metadata": {},
   "outputs": [],
   "source": [
    "# Add polynomial features\n",
    "X_test_poly = poly.transform(X_test)\n",
    "\n",
    "# Scale data\n",
    "X_test_scaled = scaler.transform(X_test_poly)"
   ]
  },
  {
   "cell_type": "code",
   "execution_count": 61,
   "metadata": {},
   "outputs": [
    {
     "data": {
      "text/plain": [
       "1.711034418590015"
      ]
     },
     "execution_count": 61,
     "metadata": {},
     "output_type": "execute_result"
    }
   ],
   "source": [
    "# Generate predictions\n",
    "y_pred_test = final_model.predict(X_test_scaled)\n",
    "\n",
    "# Find RMSE\n",
    "test_rmse = mean_squared_error(y_test, y_pred_test, squared= False)\n",
    "test_rmse"
   ]
  },
  {
   "cell_type": "code",
   "execution_count": 63,
   "metadata": {
    "scrolled": true
   },
   "outputs": [
    {
     "data": {
      "image/png": "[encoded data removed]",
      "text/plain": [
       "<Figure size 576x432 with 1 Axes>"
      ]
     },
     "metadata": {
      "needs_background": "light"
     },
     "output_type": "display_data"
    }
   ],
   "source": [
    "# Run this cell without changes\n",
    "import seaborn as sns\n",
    "\n",
    "# Set up plot\n",
    "fig, ax = plt.subplots(figsize=(8,6))\n",
    "\n",
    "# Seaborn scatter plot with best fit line\n",
    "sns.regplot(x=y_test, y=y_pred_test, ci=None, truncate=False, ax=ax)\n",
    "ax.set_xlabel(\"Actual Next_WAR\")\n",
    "ax.set_ylabel(\"Predicted Next_WAR\")\n",
    "\n",
    "# Add spans showing high blood pressure + legend\n",
    "ax.axvspan(5, max(y_test) + 1, alpha=0.2, color=\"blue\", label=\"Actual High Next_WAR\")\n",
    "ax.axhspan(5, max(y_pred_test) + 1, alpha=0.2, color=\"gray\", label=\"Predicted High Next_WAR\")\n",
    "ax.legend();"
   ]
  },
  {
   "cell_type": "code",
   "execution_count": 57,
   "metadata": {},
   "outputs": [
    {
     "data": {
      "image/png": "[encoded data removed]",
      "text/plain": [
       "<Figure size 576x432 with 1 Axes>"
      ]
     },
     "metadata": {
      "needs_background": "light"
     },
     "output_type": "display_data"
    }
   ],
   "source": [
    "# Run this cell without changes\n",
    "import seaborn as sns\n",
    "\n",
    "# Set up plot\n",
    "fig, ax = plt.subplots(figsize=(8,6))\n",
    "\n",
    "# Seaborn scatter plot with best fit line\n",
    "sns.regplot(x=y_test, y=y_pred_test, ci=None, truncate=False, ax=ax)\n",
    "ax.set_xlabel(\"Actual Next_WAR\")\n",
    "ax.set_ylabel(\"Predicted Next_WAR\")\n",
    "\n",
    "# Add spans showing high blood pressure + legend\n",
    "ax.axvspan(min(y_test) + -1, 1, alpha=0.2, color=\"blue\", label=\"Actual High Next_WAR\")\n",
    "ax.axhspan(min(y_pred_test) - 1, 1, alpha=0.2, color=\"gray\", label=\"Predicted High Next_WAR\")\n",
    "ax.legend();"
   ]
  },
  {
   "cell_type": "code",
   "execution_count": null,
   "metadata": {},
   "outputs": [],
   "source": []
  }
 ],
 "metadata": {
  "colab": {
   "provenance": []
  },
  "kernelspec": {
   "display_name": "Python 3",
   "language": "python",
   "name": "python3"
  },
  "language_info": {
   "codemirror_mode": {
    "name": "ipython",
    "version": 3
   },
   "file_extension": ".py",
   "mimetype": "text/x-python",
   "name": "python",
   "nbconvert_exporter": "python",
   "pygments_lexer": "ipython3",
   "version": "3.8.5"
  }
 },
 "nbformat": 4,
 "nbformat_minor": 1
}
